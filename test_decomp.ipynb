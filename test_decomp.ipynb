{
 "cells": [
  {
   "cell_type": "code",
   "execution_count": 1,
   "metadata": {},
   "outputs": [],
   "source": [
    "import os\n",
    "os.environ['TF_CPP_MIN_LOG_LEVEL'] = '3' # Must be set before importing TF to supress messages\n",
    "os.environ[\"CUDA_VISIBLE_DEVICES\"]= '3'\n",
    "\n",
    "import tensorflow as tf\n",
    "import numpy as np\n",
    "from utils.configs import config\n",
    "from typing import List\n",
    "import pymf\n",
    "import sklearn\n",
    "from sklearn.decomposition import PCA\n",
    "\n",
    "def load_VGG_model(img_height: int, img_width: int, lr: int, loss: tf.keras.losses.Loss, metrics: List[str], trainable: True) -> tf.keras.Model:\n",
    "    \"\"\" Loads VGG-16 model.\n",
    "\n",
    "    Args:\n",
    "        img_height (int): Image height.\n",
    "        img_width (int): Image width.\n",
    "        lr (int): Learning rate.\n",
    "        loss (tf.keras.losses.Loss): Model loss.\n",
    "        metrics (List[str]): Training metrics.\n",
    "        trainable (True): Set if model weights should be kept frozen or not.\n",
    "\n",
    "    Returns:\n",
    "        tf.keras.Model: TensorFlow VGG-16 model.\n",
    "    \"\"\"\n",
    "    model = tf.keras.applications.vgg16.VGG16(input_shape=(img_height, img_width, 3))\n",
    "    model.trainable = trainable\n",
    "    model.compile(optimizer=tf.keras.optimizers.Adam(lr, epsilon=0.1),\n",
    "                loss=loss,\n",
    "                metrics=metrics)\n",
    "\n",
    "    return model"
   ]
  },
  {
   "cell_type": "code",
   "execution_count": 2,
   "metadata": {},
   "outputs": [],
   "source": [
    "def retrieve_pcs(data, n_comp):\n",
    "    svd = np.linalg.svd(data, full_matrices=True) # Take full matrix - P is already ready\n",
    "    U = svd[0]\n",
    "    S = np.vstack([np.diag(svd[1]), np.zeros((svd[0].shape[0]-normalised_fk.shape[1], svd[1].shape[0]))]) # Reconstruct true S matrix\n",
    "    VT = svd[2]\n",
    "\n",
    "    # Extract the top n_comp principal components\n",
    "    U_f = U[:, :n_comp]\n",
    "    S_f = S[:n_comp, :n_comp]\n",
    "    V_f = VT[:n_comp, :] # rows of VT contain the principle axes\n",
    "\n",
    "    return U_f, S_f, V_f"
   ]
  },
  {
   "cell_type": "code",
   "execution_count": 3,
   "metadata": {},
   "outputs": [],
   "source": [
    "model = load_VGG_model(img_height=224, img_width=224, lr=0.001, loss=tf.keras.losses.CategoricalCrossentropy(), metrics=['accuracy'], trainable=True)"
   ]
  },
  {
   "cell_type": "code",
   "execution_count": 4,
   "metadata": {},
   "outputs": [],
   "source": [
    "kernel = model.get_layer('block4_conv2').kernel\n",
    "flat_kernel = tf.reshape(kernel, [-1, kernel.shape[-1]]).numpy()"
   ]
  },
  {
   "cell_type": "code",
   "execution_count": 17,
   "metadata": {},
   "outputs": [],
   "source": [
    "normalised_fk = ((flat_kernel - np.mean(flat_kernel, axis=0)) / np.std(flat_kernel, axis=0))"
   ]
  },
  {
   "cell_type": "markdown",
   "metadata": {},
   "source": [
    "SNMF"
   ]
  },
  {
   "cell_type": "code",
   "execution_count": 85,
   "metadata": {},
   "outputs": [],
   "source": [
    "nmf = pymf.SNMF(flat_kernel, num_bases=90)\n",
    "nmf.factorize(niter=100)"
   ]
  },
  {
   "cell_type": "code",
   "execution_count": 75,
   "metadata": {},
   "outputs": [
    {
     "name": "stdout",
     "output_type": "stream",
     "text": [
      "Original Data Shape: (4608, 512)\n",
      "W Shape: (4608, 30), H shape: (30, 512)\n",
      "[[1.28247455 0.34175011 0.55071571 ... 0.92025187 0.74198492 0.48579443]\n",
      " [0.18679074 0.12072108 0.18384162 ... 1.04034447 0.18153022 0.52769636]\n",
      " [0.6783298  0.05279717 0.9380792  ... 1.0475756  0.82827957 0.53100811]\n",
      " ...\n",
      " [0.8116857  0.41606122 0.64400446 ... 0.72822746 0.23913321 0.47236323]\n",
      " [0.17021878 0.01375228 0.70463467 ... 0.86741251 0.92154222 0.31909359]\n",
      " [0.64370319 0.34897982 0.56683252 ... 0.74174585 0.3633404  0.87315895]]\n"
     ]
    }
   ],
   "source": [
    "print(f'Original Data Shape: {flat_kernel.shape}')\n",
    "print(f'W Shape: {nmf.W.shape}, H shape: {nmf.H.shape}')\n",
    "print(nmf.H)"
   ]
  },
  {
   "cell_type": "markdown",
   "metadata": {},
   "source": [
    "PCA"
   ]
  },
  {
   "cell_type": "code",
   "execution_count": 77,
   "metadata": {},
   "outputs": [],
   "source": [
    "u,s,v = retrieve_pcs(flat_kernel, 90)"
   ]
  },
  {
   "cell_type": "code",
   "execution_count": 78,
   "metadata": {},
   "outputs": [],
   "source": [
    "pca = PCA(90)\n",
    "X_re_orig = pca.inverse_transform(pca.fit_transform(flat_kernel.T))"
   ]
  },
  {
   "cell_type": "markdown",
   "metadata": {},
   "source": [
    "Performance Metrics"
   ]
  },
  {
   "cell_type": "code",
   "execution_count": 86,
   "metadata": {},
   "outputs": [
    {
     "name": "stdout",
     "output_type": "stream",
     "text": [
      "SNMF: Residual Sum Square Error: 55.002846404742044\n",
      "Manual SVD PCA: Residual Sum Square Error: 53.68510261014783\n",
      "Sklearn PCA: Residual Sum Square Error: 53.781124114990234\n"
     ]
    }
   ],
   "source": [
    "rss_nmf = np.sum(np.square(flat_kernel - nmf.W@nmf.H))\n",
    "print(f'SNMF: Residual Sum Square Error: {rss_nmf}')\n",
    "\n",
    "rss_svd = np.sum(np.square(flat_kernel - u@s@v))\n",
    "print(f'Manual SVD PCA: Residual Sum Square Error: {rss_svd}')\n",
    "\n",
    "rss_pca = np.sum(np.square(flat_kernel - X_re_orig.T))\n",
    "print(f'Sklearn PCA: Residual Sum Square Error: {rss_pca}')"
   ]
  },
  {
   "cell_type": "code",
   "execution_count": 80,
   "metadata": {},
   "outputs": [
    {
     "name": "stdout",
     "output_type": "stream",
     "text": [
      "SNMF: Explained Variance: 0.5767240317161563\n",
      "Manual SVD PCA: Explained Variance: 0.5952852970918956\n",
      "Sklearn PCA: Explained Variance: 0.5943224234506488\n"
     ]
    }
   ],
   "source": [
    "snmf_var = sklearn.metrics.explained_variance_score(flat_kernel, nmf.W@nmf.H)\n",
    "print(f'SNMF: Explained Variance: {snmf_var}')\n",
    "\n",
    "svd_var = sklearn.metrics.explained_variance_score(flat_kernel, u@s@v)\n",
    "print(f'Manual SVD PCA: Explained Variance: {svd_var}')\n",
    "\n",
    "pca_var = sklearn.metrics.explained_variance_score(flat_kernel, X_re_orig.T)\n",
    "print(f'Sklearn PCA: Explained Variance: {pca_var}')"
   ]
  }
 ],
 "metadata": {
  "interpreter": {
   "hash": "f066a123261be0088a32562e759a4e46f8de93ceabc08fb296e978146858266a"
  },
  "kernelspec": {
   "display_name": "Python 3.6.13 ('py36')",
   "language": "python",
   "name": "python3"
  },
  "language_info": {
   "codemirror_mode": {
    "name": "ipython",
    "version": 3
   },
   "file_extension": ".py",
   "mimetype": "text/x-python",
   "name": "python",
   "nbconvert_exporter": "python",
   "pygments_lexer": "ipython3",
   "version": "3.6.13"
  },
  "orig_nbformat": 4
 },
 "nbformat": 4,
 "nbformat_minor": 2
}
