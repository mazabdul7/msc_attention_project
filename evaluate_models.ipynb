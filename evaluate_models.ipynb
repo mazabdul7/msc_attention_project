{
 "cells": [
  {
   "cell_type": "code",
   "execution_count": 1,
   "metadata": {},
   "outputs": [],
   "source": [
    "import os\n",
    "from random import sample\n",
    "os.environ['TF_CPP_MIN_LOG_LEVEL'] = '3' # Must be set before importing TF to supress messages\n",
    "os.environ[\"CUDA_VISIBLE_DEVICES\"]= '1'\n",
    "\n",
    "import tensorflow as tf\n",
    "from tensorflow.keras.callbacks import CSVLogger\n",
    "import numpy as np\n",
    "from utils.loader import DataLoader\n",
    "from utils.tools import test_model, insert_attention_layer_in_keras, insert_standard_attention_layer_in_keras\n",
    "from utils.data_sampler import CustomDataGenerator, CustomIterator\n",
    "from utils.configs import config\n",
    "from models.layers import ProjectionAttentionLayer\n",
    "from typing import List\n",
    "import pymf\n",
    "import pandas as pd\n",
    "import matplotlib.pyplot as plt\n",
    "from scipy.interpolate import UnivariateSpline\n",
    "from sklearn.linear_model import LinearRegression\n",
    "\n",
    "def test_model(model, test_set: CustomIterator, class_name) -> None:\n",
    "    \"\"\" Test the passed model for its Top-1 accuracy on the passed test set.\n",
    "\n",
    "    Args:\n",
    "        model (Model): TensorFlow model.\n",
    "        test_set (CustomIterator): Test set to test on.\n",
    "    \"\"\"\n",
    "    test_set.reset()\n",
    "    pred = model.predict(test_set, steps=test_set.n//test_set.batch_size, verbose=0)\n",
    "    pred = np.argmax(pred, axis=-1)\n",
    "    \n",
    "    print('Computing accuracy...')\n",
    "    accuracy = np.sum(pred == test_set.class_indices[class_name])/len(pred)\n",
    "\n",
    "    return accuracy"
   ]
  },
  {
   "cell_type": "code",
   "execution_count": 10,
   "metadata": {},
   "outputs": [
    {
     "name": "stdout",
     "output_type": "stream",
     "text": [
      "Loading test set...\n",
      "Found 48238 images belonging to 1000 classes.\n"
     ]
    }
   ],
   "source": [
    "# Set configs\n",
    "img_height = 224\n",
    "img_width = 224\n",
    "batch_size = 128\n",
    "\n",
    "test_datagen = CustomDataGenerator(\n",
    "                preprocessing_function=tf.keras.applications.vgg16.preprocess_input, dtype=tf.float32)\n",
    "\n",
    "# Load ImageNet test-set\n",
    "loader = DataLoader(batch_size, (img_height, img_width))\n",
    "test_set = loader.load_test_set(aug_test=test_datagen, set_batch_size=False)"
   ]
  },
  {
   "cell_type": "code",
   "execution_count": 3,
   "metadata": {},
   "outputs": [],
   "source": [
    "# Load pre-trained VGG-16 model\n",
    "tf.keras.backend.clear_session()\n",
    "model = tf.keras.models.load_model('models/vgg_trained')\n",
    "model.trainable = False\n",
    "\n",
    "# Get layer kernel\n",
    "kernel = model.get_layer('block4_conv3').kernel\n",
    "flat_kernel = tf.reshape(kernel, [-1, kernel.shape[-1]]).numpy()"
   ]
  },
  {
   "cell_type": "code",
   "execution_count": null,
   "metadata": {},
   "outputs": [],
   "source": [
    "# Perform dimensionality-reduction through SNMF on the flattened kernel and save for use within all experiments\n",
    "p_mat_dict = {}\n",
    "\n",
    "for dim in [17, 42, 90, 256, 512]:\n",
    "    # Get projection matrix via SNMF\n",
    "    n_comp = dim\n",
    "\n",
    "    nmf = pymf.SNMF(flat_kernel, num_bases=n_comp)\n",
    "    nmf.factorize(niter=1000)\n",
    "    \n",
    "    # Normalise columns of W using max norm\n",
    "    d = np.diag(np.max(np.abs(nmf.W), axis=0))\n",
    "    p_mat = d@nmf.H\n",
    "\n",
    "    p_mat_dict[dim] = p_mat"
   ]
  },
  {
   "cell_type": "code",
   "execution_count": null,
   "metadata": {},
   "outputs": [],
   "source": [
    "# Export dict\n",
    "import pickle\n",
    "with open('external_files/generated_saves/proj_mats_norm.pkl', 'wb') as f:\n",
    "    pickle.dump(p_mat_dict, f)"
   ]
  },
  {
   "cell_type": "code",
   "execution_count": 7,
   "metadata": {},
   "outputs": [],
   "source": [
    "# Load dict\n",
    "with open('external_files/generated_saves/proj_mats_norm.pkl', 'rb') as f:\n",
    "    p_mat_dict  = pickle.load(f)"
   ]
  },
  {
   "cell_type": "code",
   "execution_count": 8,
   "metadata": {},
   "outputs": [],
   "source": [
    "classes = ['n01534433', 'n01608432', 'n01806143', 'n01820546', 'n01833805', 'n01855672', 'n02012849', 'n03887697', 'n03207941','n02906734', 'n04131690', 'n03775546', 'n04553703', 'n03207743'] \n",
    "ave = ['n01534433', 'n01608432', 'n01806143', 'n01820546', 'n01833805', 'n01855672', 'n02012849']\n",
    "kitchen = ['n03887697', 'n03207941','n02906734', 'n04131690', 'n03775546', 'n04553703', 'n03207743']"
   ]
  },
  {
   "cell_type": "code",
   "execution_count": null,
   "metadata": {},
   "outputs": [],
   "source": [
    "acc = [pd.DataFrame(columns=['group', 'class', 17, 42, 90, 256, 512]) for i in range(3)]\n",
    "acc_baseline = [pd.DataFrame(columns=['group', 'class', 17, 42, 90, 256, 512]) for i in range(3)]\n",
    "#sparsity = pd.DataFrame(columns=['group', 'class', 4, 17, 42, 90, 256])\n",
    "ws = []\n",
    "\n",
    "for cl in classes:\n",
    "    for i in range(3):\n",
    "        acc[i] = acc[i].append({'group':'ave' if cl in ave else 'kitchen', 'class':cl, 4:0, 17:0, 42:0, 90:0, 256:0}, ignore_index=True)\n",
    "        acc_baseline[i] = acc_baseline[i].append({'group':'ave' if cl in ave else 'kitchen', 'class':cl, 17:0, 42:0, 90:0, 256:0}, ignore_index=True)\n",
    "    #sparsity = sparsity.append({'group':'ave' if cl in ave else 'kitchen', 'class':cl, 4:0, 17:0, 42:0, 90:0, 256:0}, ignore_index=True)\n",
    "\n",
    "#Begin the hit-rate tests for each class (baseline)\n",
    "for dim in [17, 42, 90, 256, 512]:\n",
    "    model = tf.keras.models.load_model('models/vgg_trained')\n",
    "    model.trainable = False\n",
    "    model = insert_attention_layer_in_keras(p_mat_dict[dim], model, ['block5_conv1'])\n",
    "\n",
    "    for j, i in enumerate(['', '2', '3']):\n",
    "        model.load_weights(f'models/baseline_fixed/{dim}/model_weights{i}')\n",
    "        for cl in classes:\n",
    "            test_set.set_target_sampling([cl], [1])\n",
    "            acc_val = test_model(model, test_set, cl)\n",
    "            acc_baseline[j].loc[classes.index(cl), dim] = acc_val\n",
    "\n",
    "# Begin the hit-rate tests for each class (target)\n",
    "for dim in [17, 42, 90, 256, 512]:\n",
    "    model = tf.keras.models.load_model('models/vgg_trained')\n",
    "    model.trainable = False\n",
    "    model = insert_attention_layer_in_keras(p_mat_dict[dim], model, ['block5_conv1'])\n",
    "\n",
    "    for cl in classes:\n",
    "        test_set.set_target_sampling([cl], [1])\n",
    "        for j, i in enumerate(['', '2', '3']):\n",
    "            model.load_weights(f'models/task_models_fixed/{cl}/{str(dim)}/model_weights{i}')\n",
    "            acc_val = test_model(model, test_set, cl)\n",
    "            acc[j].loc[classes.index(cl), dim] = acc_val\n",
    "\n",
    "# Begin the hit-rate tests for the standard attention mechanism models\n",
    "model = tf.keras.models.load_model('models/vgg_trained')\n",
    "model.trainable = False\n",
    "model = insert_standard_attention_layer_in_keras(model, ['block5_conv1'])\n",
    "\n",
    "for cl in classes:\n",
    "    test_set.set_target_sampling([cl], [1])\n",
    "    for j, i in enumerate(['', '2', '3']):\n",
    "        model.load_weights(f'models/task_models_standard/{cl}/model_weights{i}')\n",
    "        acc_val = test_model(model, test_set, cl)\n",
    "        acc[j].loc[classes.index(cl), '512-S'] = acc_val"
   ]
  },
  {
   "cell_type": "markdown",
   "metadata": {},
   "source": [
    "Sensitivity model"
   ]
  },
  {
   "cell_type": "code",
   "execution_count": 14,
   "metadata": {},
   "outputs": [],
   "source": [
    "def fp_model(model, test_set: CustomIterator, cl) -> None:\n",
    "    \"\"\" Test the passed model for its false-positive rate on the passed test set. \n",
    "\n",
    "    Args:\n",
    "        model (Model): TensorFlow model.\n",
    "        test_set (CustomIterator): Test set to test on.\n",
    "    \"\"\"\n",
    "    test_set.reset()\n",
    "    pred = model.predict(test_set, steps=test_set.n//test_set.batch_size, verbose=0)\n",
    "    pred = np.argmax(pred, axis=-1)\n",
    "    cls = []\n",
    "    for idx in test_set.index_array:\n",
    "        for k, v in test_set.cls_to_file_idx.items():\n",
    "            if idx in test_set.cls_to_file_idx[k]:\n",
    "                cls.append(k)\n",
    "    cls = np.array(cls)\n",
    "    \n",
    "    print('Computing rates...')\n",
    "    not_target = np.where(cls!=test_set.class_indices[cl])[0]\n",
    "    new_pred = pred[not_target]\n",
    "    fp_val = np.sum(new_pred==test_set.class_indices[cl])/len(new_pred)\n",
    "    #accuracy = np.sum(pred == test_set.class_indices[cl])/len(pred)\n",
    "\n",
    "    return fp_val"
   ]
  },
  {
   "cell_type": "code",
   "execution_count": 12,
   "metadata": {},
   "outputs": [],
   "source": [
    "# def fp_model(model, test_set: CustomIterator, cl) -> None:\n",
    "#     \"\"\" Test the passed model for its false-positive rate on the passed test set.\n",
    "\n",
    "#     Args:\n",
    "#         model (Model): TensorFlow model.\n",
    "#         test_set (CustomIterator): Test set to test on.\n",
    "#     \"\"\"\n",
    "#     test_set.reset()\n",
    "#     pred = model.predict(test_set, steps=test_set.n//test_set.batch_size, verbose=0)\n",
    "#     pred = np.argmax(pred, axis=-1)\n",
    "#     cls = np.array(test_set.classes)\n",
    "    \n",
    "#     print('Computing rates...')\n",
    "#     not_target = np.where(cls!=test_set.class_indices[cl])[0]\n",
    "#     new_pred = pred[not_target]\n",
    "#     fp_val = np.sum(new_pred==test_set.class_indices[cl])/len(new_pred)\n",
    "#     #accuracy = np.sum(pred == test_set.class_indices[cl])/len(pred)\n",
    "\n",
    "#     return fp_val"
   ]
  },
  {
   "cell_type": "code",
   "execution_count": null,
   "metadata": {},
   "outputs": [],
   "source": [
    "test_set.reset_target_sampling()\n",
    "# # global_acc = pd.DataFrame(columns=['group', 'class', 17, 42, 90, 256])\n",
    "# # global_acc_base = []\n",
    "# #hr_baseline = pd.DataFrame(columns=['group', 'class', 17, 42, 90, 256])\n",
    "# fp = [pd.DataFrame(columns=['group', 'class', 17, 42, 90, 256, 512]) for i in range(3)]\n",
    "# fp_baseline = [pd.DataFrame(columns=['group', 'class', 17, 42, 90, 256, 512]) for i in range(3)]\n",
    "\n",
    "# for cl in classes:\n",
    "#     #global_acc = global_acc.append({'group':'ave' if cl in ave else 'kitchen', 'class':cl, 17:0, 42:0, 90:0, 256:0}, ignore_index=True)\n",
    "#     #hr_baseline = hr_baseline.append({'group':'ave' if cl in ave else 'kitchen', 'class':cl, 17:0, 42:0, 90:0, 256:0}, ignore_index=True)\n",
    "#     for i in range(3):\n",
    "#         fp[i] = fp[i].append({'group':'ave' if cl in ave else 'kitchen', 'class':cl, 17:0, 42:0, 90:0, 256:0, 512:0}, ignore_index=True)\n",
    "#         fp_baseline[i] = fp_baseline[i].append({'group':'ave' if cl in ave else 'kitchen', 'class':cl, 17:0, 42:0, 90:0, 256:0}, ignore_index=True)\n",
    "\n",
    "# #Begin the tests for each class (baseline)\n",
    "# for dim in [17, 42, 90, 256, 512]:\n",
    "#     model = tf.keras.models.load_model('models/vgg_trained')\n",
    "#     model.trainable = False\n",
    "#     model = insert_attention_layer_in_keras(p_mat_dict[dim], model, ['block5_conv1'])\n",
    "\n",
    "#     for j, i in enumerate(['', '2', '3']):\n",
    "#         model.load_weights(f'models/baseline_fixed/{dim}/model_weights')\n",
    "\n",
    "#         # pred = model.predict(test_set, steps=test_set.n//test_set.batch_size, verbose=0)\n",
    "#         # pred = np.argmax(pred, axis=-1)\n",
    "#         # cls = np.array(test_set.classes)\n",
    "\n",
    "#         print('Computing rates...')\n",
    "#         for cl in classes:\n",
    "#             test_set.set_target_sampling([cl], [0.5], force_class_sampling=True)\n",
    "#             # not_target = np.where(cls!=test_set.class_indices[cl])[0]\n",
    "#             # new_pred = pred[not_target]\n",
    "#             # fp_val = np.sum(new_pred==test_set.class_indices[cl])/len(new_pred)\n",
    "#             fp_val = fp_model(model, test_set, cl)\n",
    "#             fp_baseline[j].loc[classes.index(cl), dim] = fp_val\n",
    "\n",
    "# #Begin the tests for each class (target)\n",
    "# for dim in [17, 42, 90, 256, 512]:\n",
    "#     model = tf.keras.models.load_model('models/vgg_trained')\n",
    "#     model.trainable = False\n",
    "#     model = insert_attention_layer_in_keras(p_mat_dict[dim], model, ['block5_conv1'])\n",
    "\n",
    "#     for cl in classes:\n",
    "#         for j, i in enumerate(['', '2', '3']):\n",
    "#             test_set.set_target_sampling([cl], [0.5], force_class_sampling=True)\n",
    "#             model.load_weights(f'models/task_models_fixed/{cl}/{dim}/model_weights{i}', )\n",
    "#             fp_val = fp_model(model, test_set, cl)\n",
    "#             fp[j].loc[classes.index(cl), dim] = fp_val\n",
    "#             #global_acc.loc[classes.index(cl), dim] = acc_val\n",
    "\n",
    "# Begin the tests for standard attention mechanism models\n",
    "model = tf.keras.models.load_model('models/vgg_trained')\n",
    "model.trainable = False\n",
    "model = insert_standard_attention_layer_in_keras(model, ['block5_conv1'])\n",
    "\n",
    "for cl in classes:\n",
    "    for j, i in enumerate(['', '2', '3']):\n",
    "        test_set.set_target_sampling([cl], [0.5], force_class_sampling=True)\n",
    "        model.load_weights(f'models/task_models_standard/{cl}/model_weights{i}', )\n",
    "        fp_val = fp_model(model, test_set, cl)\n",
    "        fp[j].loc[classes.index(cl), '512-S'] = fp_val\n",
    "        #global_acc.loc[classes.index(cl), dim] = acc_val"
   ]
  },
  {
   "cell_type": "code",
   "execution_count": 12,
   "metadata": {},
   "outputs": [],
   "source": [
    "# Save metrics\n",
    "for i in range(3):\n",
    "    acc[i].to_csv(f'acc{i}.csv', index=False)\n",
    "    acc_baseline[i].to_csv(f'acc_baseline{i}.csv', index=False)\n",
    "    fp_baseline[i].to_csv(f'false_alarm_base{i}.csv', index=False)\n",
    "    fp[i].to_csv(f'false_alarm{i}.csv', index=False)"
   ]
  },
  {
   "cell_type": "markdown",
   "metadata": {},
   "source": [
    "Plots"
   ]
  },
  {
   "cell_type": "code",
   "execution_count": 2,
   "metadata": {},
   "outputs": [],
   "source": [
    "dims = [17,42,90,256, 512, '512-S']"
   ]
  },
  {
   "cell_type": "code",
   "execution_count": 3,
   "metadata": {},
   "outputs": [],
   "source": [
    "# Load metrics\n",
    "acc = []\n",
    "fp = []\n",
    "acc_baseline = []\n",
    "fp_baseline = []\n",
    "\n",
    "for i in range(3):\n",
    "    acc.append(pd.read_csv(f'external_files/generated_saves/acc{i}.csv', names=['group', 'class', 17, 42, 90, 256, 512], header=0))\n",
    "    fp.append(pd.read_csv(f'external_files/generated_saves/false_alarm{i}.csv', names=['group', 'class', 17, 42, 90, 256, 512], header=0))\n",
    "    acc_baseline.append(pd.read_csv(f'external_files/generated_saves/acc_baseline{i}.csv', names=['group', 'class',17, 42, 90, 256, 512], header=0))\n",
    "    fp_baseline.append(pd.read_csv(f'external_files/generated_saves/false_alarm_base{i}.csv', names=['group', 'class', 17, 42, 90, 256, 512], header=0))"
   ]
  },
  {
   "cell_type": "markdown",
   "metadata": {},
   "source": [
    "Perceptual Boosts"
   ]
  },
  {
   "cell_type": "code",
   "execution_count": 14,
   "metadata": {},
   "outputs": [
    {
     "name": "stdout",
     "output_type": "stream",
     "text": [
      "[0.00508474 0.00689277 0.00852261 0.01129401 0.01346313] [0.03149926 0.05460637 0.08042503 0.12944452 0.14092381]\n"
     ]
    },
    {
     "data": {
      "image/png": "[encoded data removed]",
      "text/plain": [
       "<Figure size 432x288 with 1 Axes>"
      ]
     },
     "metadata": {
      "needs_background": "light"
     },
     "output_type": "display_data"
    }
   ],
   "source": [
    "acc_change = np.vstack([acc[i][dims] for i in range(3)]) - np.tile(acc_baseline[0][dims], (3,1))\n",
    "\n",
    "means = np.mean(acc_change, axis=0)\n",
    "errors = np.std(acc_change, axis=0)/np.sqrt(acc_change.shape[0]) # Compute standard error\n",
    "\n",
    "fig = plt.figure()\n",
    "ax = fig.add_subplot(111)\n",
    "ax.set_axisbelow(True)\n",
    "data=[acc_change[:,i] for i in range(5)]\n",
    "ax.grid(color='lightgrey', linestyle='-', axis='y')\n",
    "parts = ax.violinplot(data ,showmeans=False)\n",
    "for pc in parts['bodies']:\n",
    "    pc.set_facecolor('#D3D3D3')\n",
    "    #pc.set_edgecolor('red')\n",
    "    pc.set_alpha(0.6)\n",
    "for partname in ('cbars','cmins','cmaxes'):\n",
    "    vp = parts[partname]\n",
    "    vp.set_edgecolor('black')\n",
    "    vp.set_linewidth(1)\n",
    "    vp.set_alpha(0)\n",
    "\n",
    "# vp = parts['cmeans']\n",
    "# vp.set_edgecolor('red')\n",
    "# vp.set_linewidth(1)\n",
    "\n",
    "\n",
    "def adjacent_values(vals, q1, q3):\n",
    "    upper_adjacent_value = q3 + (q3 - q1) * 1.5\n",
    "    upper_adjacent_value = np.clip(upper_adjacent_value, q3, vals[-1])\n",
    "\n",
    "    lower_adjacent_value = q1 - (q3 - q1) * 1.5\n",
    "    lower_adjacent_value = np.clip(lower_adjacent_value, vals[0], q1)\n",
    "    return lower_adjacent_value, upper_adjacent_value\n",
    "quartile1, medians, quartile3 = np.percentile(data, [25, 50, 75], axis=1)\n",
    "whiskers = np.array([\n",
    "    adjacent_values(sorted_array, q1, q3)\n",
    "    for sorted_array, q1, q3 in zip(data, quartile1, quartile3)])\n",
    "whiskers_min, whiskers_max = whiskers[:, 0], whiskers[:, 1]\n",
    "\n",
    "inds = np.arange(1, len(medians) + 1)\n",
    "#ax.scatter(inds, medians, marker='o', color='white', s=30, zorder=3)\n",
    "#ax.vlines(inds, quartile1, quartile3, color='k', linestyle='-', lw=5)\n",
    "#ax.vlines(inds, whiskers_min, whiskers_max, color='k', linestyle='-', lw=1)\n",
    "\n",
    "ax.set_xticks(np.arange(1, len([str(dim) for dim in dims]) + 1))\n",
    "ax.set_xticklabels([str(dim) for dim in dims])\n",
    "\n",
    "d = [str(x) for x in dims]\n",
    "d.insert(0, '0')\n",
    "m = means.tolist()\n",
    "m.insert(0,0)\n",
    "e = errors.tolist()\n",
    "e.insert(0,0)\n",
    "ax.errorbar(d, m, yerr=e, fmt='o', color='red', ecolor='black', elinewidth=1.5, markersize=3)\n",
    "\n",
    "ax.set_xlabel('Seed Dimensioniality')\n",
    "ax.set_ylabel('Accuracy Change')\n",
    "ax.set_ylim([-0.005,0.28])\n",
    "ax.set_xlim([0.5,5.5])\n",
    "#fig.savefig('acc_change_per_dim_vio.png', dpi=300)\n",
    "\n",
    "print(errors, means)"
   ]
  },
  {
   "cell_type": "markdown",
   "metadata": {},
   "source": [
    "Student T-test on descending pairs"
   ]
  },
  {
   "cell_type": "code",
   "execution_count": 18,
   "metadata": {},
   "outputs": [
    {
     "name": "stdout",
     "output_type": "stream",
     "text": [
      "1.1659304394612298 0.39309994066441156\n",
      "1.382407700680895 3.6924867494252887\n",
      "1.1224189806618972 2.0202649463339304\n",
      "1.6178893785579145 3.4077077788259325\n"
     ]
    }
   ],
   "source": [
    "acc_sens = np.std(acc_change, axis=0)\n",
    "for pair in [[4, 3], [3, 2], [2,1], [1,0]]:\n",
    "    s2 = (41*(acc_sens[pair[0]]**2) + 41*(acc_sens[pair[1]]**2))/(42+42-2)\n",
    "    t = (means[pair[0]] - means[pair[1]])/(np.sqrt((2*s2)/42))\n",
    "    print(acc_sens[pair[0]]/acc_sens[pair[1]], t)"
   ]
  },
  {
   "cell_type": "markdown",
   "metadata": {},
   "source": [
    "Perceptual boost increases with dimensionality from 17 to 512. The highest perceptual boost was exhibited by dimensionality 512, however this was found to not be significant t(82)=0.39, p>0.5 suggesting that both 512 and 256 operate with equal performance meaning there are around 256 redundant dimensions within the original decomposition as the seed mechanism at 50% reduction in dimensionality performs as well as the full dimensionality equivalent. The difference between the 256 and 90 dimensional models was found to be significant at t(82)=3.69, p<0.001 suggesting optimal dimensionality for the mechanism is the 256 dimensional model. All subsequent sensitivites we also found to be significant. Perceptual boost at all dimensions is apparent and provides evidence for the success of the mechanism, especially the 512-256 pair. Note that the overall mean accuracy at higher dimensions decreased after constraining the clipping to be non-negative as these dims tended to go negative- possibly look into new constraining techniques."
   ]
  },
  {
   "cell_type": "markdown",
   "metadata": {},
   "source": [
    "Perceptual Boosts on a continuous x-axis"
   ]
  },
  {
   "cell_type": "code",
   "execution_count": 67,
   "metadata": {},
   "outputs": [
    {
     "data": {
      "image/png": "[encoded data removed]",
      "text/plain": [
       "<Figure size 432x288 with 1 Axes>"
      ]
     },
     "metadata": {
      "needs_background": "light"
     },
     "output_type": "display_data"
    }
   ],
   "source": [
    "#acc_change = np.array(acc[dims]) - np.array(acc_baseline[dims])\n",
    "x = [i for i in dims]*14\n",
    "x_quad = np.hstack([np.array(dims).reshape(-1, 1), np.array(dims).reshape(-1, 1)**2])\n",
    "x_new = np.linspace(0, 512, 50).reshape(-1, 1)\n",
    "x_new = np.hstack([x_new, x_new**2])\n",
    "\n",
    "fig = plt.figure()\n",
    "ax = fig.add_subplot(111)\n",
    "ax.set_axisbelow(True)\n",
    "\n",
    "reg = LinearRegression().fit(np.vstack([x_quad, np.flip(x_quad, axis=0)]), np.hstack([means, np.flip(means)]).reshape(-1, 1))\n",
    "ax.scatter(np.array(dims).flatten(), means.flatten(), marker='o', alpha=0.8, color='grey', s=30)\n",
    "#ax.plot(x_new[:, 0], reg.predict(x_new), 'r', label='Linear Fit')\n",
    "neww = dims.copy()\n",
    "newwm = means.tolist()\n",
    "for i in range(20): \n",
    "    neww.append(512+i*3)\n",
    "    newwm.append(0.14092381)\n",
    "# neww.insert(0, 0)\n",
    "# newwm.insert(0,0)\n",
    "spl = UnivariateSpline(neww, newwm, k=3)\n",
    "xs = np.linspace(8, 256, 1000)\n",
    "plt.plot(xs, spl(xs), 'r')\n",
    "neww = dims.copy()\n",
    "newwm = means.tolist()\n",
    "for i in range(20): \n",
    "    neww.append(512+i*2)\n",
    "    newwm.append(0.14092381)\n",
    "spl = UnivariateSpline(neww, newwm, k=3)\n",
    "xs = np.linspace(256, 512, 1000)\n",
    "plt.plot(xs, spl(xs), 'r')\n",
    "\n",
    "ax.grid(color='lightgrey', linestyle='-', axis='both')\n",
    "ax.set_xlabel('Seed Dimensionality')\n",
    "ax.set_ylabel('Accuracy Change')\n",
    "ax.set_ylim([0.02, 0.15])\n",
    "fig.savefig('acc_change_per_all_dims.png', dpi=300)"
   ]
  },
  {
   "cell_type": "markdown",
   "metadata": {},
   "source": [
    "Signal "
   ]
  },
  {
   "cell_type": "code",
   "execution_count": 18,
   "metadata": {},
   "outputs": [
    {
     "name": "stdout",
     "output_type": "stream",
     "text": [
      "[0.02005009 0.01840674 0.01704584 0.01384811 0.01424992 0.01151201]\n",
      "1.0717742202659248 0.43475608153752054\n"
     ]
    },
    {
     "data": {
      "text/plain": [
       "Text(0.5, 0.075, 'Seeds Dimesionality')"
      ]
     },
     "execution_count": 18,
     "metadata": {},
     "output_type": "execute_result"
    },
    {
     "data": {
      "image/png": "[encoded data removed]",
      "text/plain": [
       "<Figure size 864x576 with 4 Axes>"
      ]
     },
     "metadata": {
      "needs_background": "light"
     },
     "output_type": "display_data"
    }
   ],
   "source": [
    "fig, (ax1, ax2) = plt.subplots(2,2, figsize=(12,8))\n",
    "dims = [17, 42, 90, 256, 512, '512-S']\n",
    "\n",
    "hr_arr = np.vstack([acc[i][dims] for i in range(3)])\n",
    "\n",
    "#HR\n",
    "me_hr = np.mean(hr_arr, axis=0)\n",
    "err_hr = np.std(hr_arr, axis=0)/np.sqrt(hr_arr.shape[0]) # Compute standard error\n",
    "print(err_hr)\n",
    "\n",
    "ax1[0].set_axisbelow(True)\n",
    "data=[hr_arr[:,i] for i in range(6)]\n",
    "ax1[0].grid(color='lightgrey', linestyle='-', axis='y')\n",
    "parts = ax1[0].violinplot(data ,showmeans=False)\n",
    "for pc in parts['bodies']:\n",
    "    pc.set_facecolor('#D3D3D3')\n",
    "    #pc.set_edgecolor('red')\n",
    "    pc.set_alpha(0.6)\n",
    "for partname in ('cbars','cmins','cmaxes'):\n",
    "    vp = parts[partname]\n",
    "    vp.set_edgecolor('black')\n",
    "    vp.set_linewidth(1)\n",
    "    vp.set_alpha(0)\n",
    "\n",
    "ax1[0].set_xticks(np.arange(1, len([str(dim) for dim in dims]) + 1))\n",
    "ax1[0].set_xticklabels(['17', '42', '90', '256', '512', '512-S'])\n",
    "\n",
    "d = ['17', '42', '90', '256', '512', '512-S']\n",
    "d.insert(0, '0')\n",
    "m = me_hr.tolist()\n",
    "m.insert(0,0)\n",
    "e = err_hr.tolist()\n",
    "e.insert(0,0)\n",
    "ax1[0].errorbar(d, m, yerr=e, fmt='o', color='red', ecolor='black', elinewidth=1.5, markersize=3)\n",
    "\n",
    "ax1[0].set_ylabel(\"Hit Rate\")\n",
    "ax1[0].set_ylim([0.55, 1])\n",
    "ax1[0].set_xlim([0.55,5.5])\n",
    "\n",
    "# FP\n",
    "fp_arr = np.vstack([fp[i][dims] for i in range(3)])\n",
    "me_hr = np.mean(fp_arr, axis=0)\n",
    "err_hr = np.std(fp_arr, axis=0)/np.sqrt(fp_arr.shape[0]) # Compute standard error\n",
    "\n",
    "ax1[1].set_axisbelow(True)\n",
    "data=[fp_arr[:,i] for i in range(6)]\n",
    "ax1[1].grid(color='lightgrey', linestyle='-', axis='y')\n",
    "parts = ax1[1].violinplot(data ,showmeans=False)\n",
    "for pc in parts['bodies']:\n",
    "    pc.set_facecolor('#D3D3D3')\n",
    "    #pc.set_edgecolor('red')\n",
    "    pc.set_alpha(0.6)\n",
    "for partname in ('cbars','cmins','cmaxes'):\n",
    "    vp = parts[partname]\n",
    "    vp.set_edgecolor('black')\n",
    "    vp.set_linewidth(1)\n",
    "    vp.set_alpha(0)\n",
    "\n",
    "ax1[1].set_xticks(np.arange(1, len([str(dim) for dim in dims]) + 1))\n",
    "ax1[1].set_xticklabels(['17', '42', '90', '256', '512', '512-S'])\n",
    "\n",
    "d = ['17', '42', '90', '256', '512', '512-S']\n",
    "d.insert(0, '0')\n",
    "m = me_hr.tolist()\n",
    "m.insert(0,0)\n",
    "e = err_hr.tolist()\n",
    "e.insert(0,0)\n",
    "ax1[1].errorbar(d, m, yerr=e, fmt='o', color='red', ecolor='black', elinewidth=1.5, markersize=3)\n",
    "\n",
    "ax1[1].set_ylabel(\"False Positive Rate\")\n",
    "ax1[1].set_ylim([0, 0.015])\n",
    "ax1[1].set_xlim([0.5,5.5])\n",
    "\n",
    "#SENSE\n",
    "from scipy.stats import norm\n",
    "sensitivity = pd.DataFrame(columns=['group', 'class', 17, 42, 90, 256])\n",
    "for cl in classes:\n",
    "    sensitivity = sensitivity.append({'group':'ave' if cl in ave else 'kitchen', 'class':cl, 17:0, 42:0, 90:0, 256:0}, ignore_index=True)\n",
    "\n",
    "hr_arr = np.vstack([acc[i][dims] for i in range(3)])\n",
    "hr_arr[np.where(hr_arr>0.995)[0], np.where(hr_arr>0.995)[1]] = 0.995\n",
    "fp_arr = np.vstack([fp[i][dims] for i in range(3)])\n",
    "fp_arr[np.where(fp_arr<0.005)[0], np.where(fp_arr<0.005)[1]] = 0.005\n",
    "z_hr = norm.ppf(hr_arr)\n",
    "z_fp = norm.ppf(fp_arr)\n",
    "sens = z_hr - z_fp\n",
    "me_sen = np.mean(sens, axis=0)\n",
    "err_sen = np.std(sens, axis=0)/np.sqrt(sens.shape[0]) # Compute standard error\n",
    "acc_sens = np.std(sens, axis=0)\n",
    "for pair in [[5, 3]]:\n",
    "    s2 = (41*(acc_sens[pair[0]]**2) + 41*(acc_sens[pair[1]]**2))/(42+42-2)\n",
    "    t = (me_sen[pair[0]] - me_sen[pair[1]])/(np.sqrt((2*s2)/42))\n",
    "    print(acc_sens[pair[0]]/acc_sens[pair[1]], t)\n",
    "\n",
    "ax2[0].set_axisbelow(True)\n",
    "data=[sens[:,i] for i in range(6)]\n",
    "ax2[0].grid(color='lightgrey', linestyle='-', axis='y')\n",
    "parts = ax2[0].violinplot(data ,showmeans=False)\n",
    "for pc in parts['bodies']:\n",
    "    pc.set_facecolor('#D3D3D3')\n",
    "    #pc.set_edgecolor('red')\n",
    "    pc.set_alpha(0.6)\n",
    "for partname in ('cbars','cmins','cmaxes'):\n",
    "    vp = parts[partname]\n",
    "    vp.set_edgecolor('black')\n",
    "    vp.set_linewidth(1)\n",
    "    vp.set_alpha(0)\n",
    "\n",
    "ax2[0].set_xticks(np.arange(1, len([str(dim) for dim in dims]) + 1))\n",
    "ax2[0].set_xticklabels(['17', '42', '90', '256', '512', '512-S'])\n",
    "\n",
    "d = ['17', '42', '90', '256', '512', '512-S']\n",
    "d.insert(0, '0')\n",
    "m = me_sen.tolist()\n",
    "m.insert(0,0)\n",
    "e = err_sen.tolist()\n",
    "e.insert(0,0)\n",
    "ax2[0].errorbar(d, m, yerr=e, fmt='o', color='red', ecolor='black', elinewidth=1.5, markersize=3)\n",
    "\n",
    "ax2[0].set_ylabel(\"d'\")\n",
    "ax2[0].set_ylim([2.3,5.2])\n",
    "ax2[0].set_xlim([0.5,5.5])\n",
    "\n",
    "# Cri\n",
    "sens = - (z_hr + z_fp) / 2\n",
    "me_sen = np.mean(sens, axis=0)\n",
    "err_sen = np.std(sens, axis=0)/np.sqrt(sens.shape[0]) # Compute standard error\n",
    "\n",
    "ax2[1].set_axisbelow(True)\n",
    "data=[sens[:,i] for i in range(6)]\n",
    "ax2[1].grid(color='lightgrey', linestyle='-', axis='y')\n",
    "parts = ax2[1].violinplot(data ,showmeans=False)\n",
    "for pc in parts['bodies']:\n",
    "    pc.set_facecolor('#D3D3D3')\n",
    "    #pc.set_edgecolor('red')\n",
    "    pc.set_alpha(0.6)\n",
    "for partname in ('cbars','cmins','cmaxes'):\n",
    "    vp = parts[partname]\n",
    "    vp.set_edgecolor('black')\n",
    "    vp.set_linewidth(1)\n",
    "    vp.set_alpha(0)\n",
    "\n",
    "# vp = parts['cmeans']\n",
    "# vp.set_edgecolor('red')\n",
    "# vp.set_linewidth(1)\n",
    "\n",
    "ax2[1].set_xticks(np.arange(1, len([str(dim) for dim in dims]) + 1))\n",
    "ax2[1].set_xticklabels(['17', '42', '90', '256', '512', '512-S'])\n",
    "\n",
    "d = ['17', '42', '90', '256', '512', '512-S']\n",
    "d.insert(0, '0')\n",
    "m = me_sen.tolist()\n",
    "m.insert(0,0)\n",
    "e = err_sen.tolist()\n",
    "e.insert(0,0)\n",
    "ax2[1].errorbar(d, m, yerr=e, fmt='o', color='red', ecolor='black', elinewidth=1.5, markersize=3)\n",
    "\n",
    "ax2[1].set_ylabel(\"Criterion\")\n",
    "ax2[1].set_ylim([-0.2,1.2])\n",
    "ax2[1].set_xlim([0.5,5.5])\n",
    "\n",
    "ax1[0].set_xlim([0.5,6.5])\n",
    "ax1[1].set_xlim([0.5,6.5])\n",
    "ax2[0].set_xlim([0.5,6.5])\n",
    "ax2[1].set_xlim([0.5,6.5])\n",
    "\n",
    "fig.text(0.5, 0.075, 'Seeds Dimesionality', ha='center', va='center')\n",
    "#fig.savefig('all_signal.png', bbox_inches='tight', dpi=300)"
   ]
  },
  {
   "cell_type": "code",
   "execution_count": 45,
   "metadata": {},
   "outputs": [
    {
     "data": {
      "image/png": "[encoded data removed]",
      "text/plain": [
       "<Figure size 864x576 with 4 Axes>"
      ]
     },
     "metadata": {
      "needs_background": "light"
     },
     "output_type": "display_data"
    }
   ],
   "source": [
    "dims = [17, 42, 90, 256, 512]\n",
    "fig, (ax1, ax2) = plt.subplots(2,2, figsize=(12,8))\n",
    "hr_arr = np.vstack([acc_baseline[i][dims] for i in range(3)])\n",
    "hr_arr[np.where(hr_arr>0.995)[0], np.where(hr_arr>0.995)[1]] = 0.995\n",
    "fp_arr = np.vstack([fp_baseline[i][dims] for i in range(3)])\n",
    "\n",
    "#HR\n",
    "me_hr = np.mean(hr_arr, axis=0)\n",
    "err_hr = np.std(hr_arr, axis=0)/np.sqrt(hr_arr.shape[0]) # Compute standard error\n",
    "\n",
    "ax1[0].set_axisbelow(True)\n",
    "data=[hr_arr[:,i] for i in range(5)]\n",
    "ax1[0].grid(color='lightgrey', linestyle='-', axis='y')\n",
    "parts = ax1[0].violinplot(data ,showmeans=False)\n",
    "for pc in parts['bodies']:\n",
    "    pc.set_facecolor('#D3D3D3')\n",
    "    #pc.set_edgecolor('red')\n",
    "    pc.set_alpha(0.6)\n",
    "for partname in ('cbars','cmins','cmaxes'):\n",
    "    vp = parts[partname]\n",
    "    vp.set_edgecolor('black')\n",
    "    vp.set_linewidth(1)\n",
    "    vp.set_alpha(0)\n",
    "\n",
    "ax1[0].set_xticks(np.arange(1, len([str(dim) for dim in dims]) + 1))\n",
    "ax1[0].set_xticklabels([str(dim) for dim in dims])\n",
    "\n",
    "d = [str(x) for x in dims]\n",
    "d.insert(0, '0')\n",
    "m = me_hr.tolist()\n",
    "m.insert(0,0)\n",
    "e = err_hr.tolist()\n",
    "e.insert(0,0)\n",
    "ax1[0].errorbar(d, m, yerr=e, fmt='o', color='red', ecolor='black', elinewidth=1.5, markersize=3)\n",
    "\n",
    "ax1[0].set_ylabel(\"Hit Rate\")\n",
    "ax1[0].set_ylim([0.46, 1])\n",
    "ax1[0].set_xlim([0.55,5.5])\n",
    "\n",
    "# FP\n",
    "fp_arr = np.vstack([fp_baseline[i][dims] for i in range(3)])\n",
    "me_hr = np.mean(fp_arr, axis=0)\n",
    "err_hr = np.std(fp_arr, axis=0)/np.sqrt(fp_arr.shape[0]) # Compute standard error\n",
    "\n",
    "ax1[1].set_axisbelow(True)\n",
    "data=[fp_arr[:,i] for i in range(5)]\n",
    "ax1[1].grid(color='lightgrey', linestyle='-', axis='y')\n",
    "parts = ax1[1].violinplot(data ,showmeans=False)\n",
    "for pc in parts['bodies']:\n",
    "    pc.set_facecolor('#D3D3D3')\n",
    "    #pc.set_edgecolor('red')\n",
    "    pc.set_alpha(0.6)\n",
    "for partname in ('cbars','cmins','cmaxes'):\n",
    "    vp = parts[partname]\n",
    "    vp.set_edgecolor('black')\n",
    "    vp.set_linewidth(1)\n",
    "    vp.set_alpha(0)\n",
    "\n",
    "ax1[1].set_xticks(np.arange(1, len([str(dim) for dim in dims]) + 1))\n",
    "ax1[1].set_xticklabels([str(dim) for dim in dims])\n",
    "\n",
    "d = [str(x) for x in dims]\n",
    "d.insert(0, '0')\n",
    "m = me_hr.tolist()\n",
    "m.insert(0,0)\n",
    "e = err_hr.tolist()\n",
    "e.insert(0,0)\n",
    "ax1[1].errorbar(d, m, yerr=e, fmt='o', color='red', ecolor='black', elinewidth=1.5, markersize=3)\n",
    "\n",
    "ax1[1].set_ylabel(\"False Positive Rate\")\n",
    "ax1[1].set_ylim([0, 0.0005])\n",
    "ax1[1].set_xlim([0.5,5.5])\n",
    "\n",
    "#SENSE\n",
    "from scipy.stats import norm\n",
    "sensitivity = pd.DataFrame(columns=['group', 'class', 17, 42, 90, 256])\n",
    "for cl in classes:\n",
    "    sensitivity = sensitivity.append({'group':'ave' if cl in ave else 'kitchen', 'class':cl, 17:0, 42:0, 90:0, 256:0}, ignore_index=True)\n",
    "\n",
    "hr_arr = np.vstack([acc_baseline[i][dims] for i in range(3)])\n",
    "hr_arr[np.where(hr_arr>0.995)[0], np.where(hr_arr>0.995)[1]] = 0.995\n",
    "fp_arr = np.vstack([fp_baseline[i][dims] for i in range(3)])\n",
    "fp_arr[np.where(fp_arr<0.005)[0], np.where(fp_arr<0.005)[1]] = 0.005\n",
    "z_hr = norm.ppf(hr_arr)\n",
    "# z_fp = np.ones_like(fp_arr)\n",
    "# for i in range(fp_arr.shape[0]):\n",
    "#     for j in range(fp_arr.shape[1]):\n",
    "#         z_fp[i, j] = norm.ppf(fp_arr[i,j])\n",
    "z_fp = norm.ppf(fp_arr)\n",
    "sens = z_hr - z_fp\n",
    "me_sen = np.mean(sens, axis=0)\n",
    "err_sen = np.std(sens, axis=0)/np.sqrt(sens.shape[0]) # Compute standard error\n",
    "\n",
    "\n",
    "#ax.errorbar([str(x) for x in dims], me_sen, yerr=err_sen, fmt='o', color='red', ecolor='grey', elinewidth=2.5, markersize=4)\n",
    "ax2[0].set_axisbelow(True)\n",
    "data=[sens[:,i] for i in range(5)]\n",
    "ax2[0].grid(color='lightgrey', linestyle='-', axis='y')\n",
    "parts = ax2[0].violinplot(data ,showmeans=False)\n",
    "for pc in parts['bodies']:\n",
    "    pc.set_facecolor('#D3D3D3')\n",
    "    #pc.set_edgecolor('red')\n",
    "    pc.set_alpha(0.6)\n",
    "for partname in ('cbars','cmins','cmaxes'):\n",
    "    vp = parts[partname]\n",
    "    vp.set_edgecolor('black')\n",
    "    vp.set_linewidth(1)\n",
    "    vp.set_alpha(0)\n",
    "\n",
    "# vp = parts['cmeans']\n",
    "# vp.set_edgecolor('red')\n",
    "# vp.set_linewidth(1)\n",
    "\n",
    "ax2[0].set_xticks(np.arange(1, len([str(dim) for dim in dims]) + 1))\n",
    "ax2[0].set_xticklabels([str(dim) for dim in dims])\n",
    "\n",
    "d = [str(x) for x in dims]\n",
    "d.insert(0, '0')\n",
    "m = me_sen.tolist()\n",
    "m.insert(0,0)\n",
    "e = err_sen.tolist()\n",
    "e.insert(0,0)\n",
    "ax2[0].errorbar(d, m, yerr=e, fmt='o', color='red', ecolor='black', elinewidth=1.5, markersize=3)\n",
    "\n",
    "#ax2[0].set_xlabel('Seed Dimensioniality')\n",
    "ax2[0].set_ylabel(\"d'\")\n",
    "ax2[0].set_ylim([2.5,4.7])\n",
    "ax2[0].set_xlim([0.5,5.5])\n",
    "\n",
    "\n",
    "# Cri\n",
    "sens = - (z_hr + z_fp) / 2\n",
    "me_sen = np.mean(sens, axis=0)\n",
    "err_sen = np.std(sens, axis=0)/np.sqrt(sens.shape[0]) # Compute standard error\n",
    "\n",
    "ax2[1].set_axisbelow(True)\n",
    "data=[sens[:,i] for i in range(5)]\n",
    "ax2[1].grid(color='lightgrey', linestyle='-', axis='y')\n",
    "parts = ax2[1].violinplot(data ,showmeans=False)\n",
    "for pc in parts['bodies']:\n",
    "    pc.set_facecolor('#D3D3D3')\n",
    "    #pc.set_edgecolor('red')\n",
    "    pc.set_alpha(0.6)\n",
    "for partname in ('cbars','cmins','cmaxes'):\n",
    "    vp = parts[partname]\n",
    "    vp.set_edgecolor('black')\n",
    "    vp.set_linewidth(1)\n",
    "    vp.set_alpha(0)\n",
    "\n",
    "# vp = parts['cmeans']\n",
    "# vp.set_edgecolor('red')\n",
    "# vp.set_linewidth(1)\n",
    "\n",
    "ax2[1].set_xticks(np.arange(1, len([str(dim) for dim in dims]) + 1))\n",
    "ax2[1].set_xticklabels([str(dim) for dim in dims])\n",
    "\n",
    "d = [str(x) for x in dims]\n",
    "d.insert(0, '0')\n",
    "m = me_sen.tolist()\n",
    "m.insert(0,0)\n",
    "e = err_sen.tolist()\n",
    "e.insert(0,0)\n",
    "ax2[1].errorbar(d, m, yerr=e, fmt='o', color='red', ecolor='black', elinewidth=1.5, markersize=3)\n",
    "\n",
    "ax2[1].set_ylabel(\"Criterion\")\n",
    "ax2[1].set_ylim([0.2,1.4])\n",
    "ax2[1].set_xlim([0.5,5.5])\n",
    "\n",
    "fig.text(0.5, 0.075, 'Seeds Dimesionality', ha='center', va='center')\n",
    "fig.savefig('all_signal_base.png', bbox_inches='tight', dpi=300)"
   ]
  },
  {
   "cell_type": "markdown",
   "metadata": {},
   "source": [
    "Metrics Computed In Single Graphs"
   ]
  },
  {
   "cell_type": "code",
   "execution_count": 29,
   "metadata": {},
   "outputs": [
    {
     "name": "stdout",
     "output_type": "stream",
     "text": [
      "[0.09064118 0.08810472 0.08968768 0.10248995 0.11467786] [3.51081627 3.56874009 3.70413381 3.96595682 3.87596735]\n"
     ]
    },
    {
     "data": {
      "image/png": "[encoded data removed]",
      "text/plain": [
       "<Figure size 432x288 with 1 Axes>"
      ]
     },
     "metadata": {
      "needs_background": "light"
     },
     "output_type": "display_data"
    }
   ],
   "source": [
    "from scipy.stats import norm\n",
    "sensitivity = pd.DataFrame(columns=['group', 'class', 17, 42, 90, 256])\n",
    "for cl in classes:\n",
    "    sensitivity = sensitivity.append({'group':'ave' if cl in ave else 'kitchen', 'class':cl, 17:0, 42:0, 90:0, 256:0}, ignore_index=True)\n",
    "\n",
    "hr_arr = np.vstack([acc[i][dims] for i in range(3)])\n",
    "hr_arr[np.where(hr_arr>0.995)[0], np.where(hr_arr>0.995)[1]] = 0.995\n",
    "fp_arr = np.vstack([fp[i][dims] for i in range(3)])\n",
    "fp_arr[np.where(fp_arr<0.005)[0], np.where(fp_arr<0.005)[1]] = 0.005\n",
    "z_hr = norm.ppf(hr_arr)\n",
    "z_fp = norm.ppf(fp_arr)\n",
    "sens = z_hr - z_fp\n",
    "me_sen = np.mean(sens, axis=0)\n",
    "err_sen = np.std(sens, axis=0)/np.sqrt(sens.shape[0]) # Compute standard error\n",
    "\n",
    "\n",
    "#ax.errorbar([str(x) for x in dims], me_sen, yerr=err_sen, fmt='o', color='red', ecolor='grey', elinewidth=2.5, markersize=4)\n",
    "\n",
    "fig = plt.figure()\n",
    "ax = fig.add_subplot(111)\n",
    "ax.set_axisbelow(True)\n",
    "data=[sens[:,i] for i in range(5)]\n",
    "ax.grid(color='lightgrey', linestyle='-', axis='y')\n",
    "parts = ax.violinplot(data ,showmeans=False)\n",
    "for pc in parts['bodies']:\n",
    "    pc.set_facecolor('#D3D3D3')\n",
    "    #pc.set_edgecolor('red')\n",
    "    pc.set_alpha(0.6)\n",
    "for partname in ('cbars','cmins','cmaxes'):\n",
    "    vp = parts[partname]\n",
    "    vp.set_edgecolor('black')\n",
    "    vp.set_linewidth(1)\n",
    "    vp.set_alpha(0)\n",
    "\n",
    "# vp = parts['cmeans']\n",
    "# vp.set_edgecolor('red')\n",
    "# vp.set_linewidth(1)\n",
    "\n",
    "ax.set_xticks(np.arange(1, len([str(dim) for dim in dims]) + 1))\n",
    "ax.set_xticklabels([str(dim) for dim in dims])\n",
    "\n",
    "d = [str(x) for x in dims]\n",
    "d.insert(0, '0')\n",
    "m = me_sen.tolist()\n",
    "m.insert(0,0)\n",
    "e = err_sen.tolist()\n",
    "e.insert(0,0)\n",
    "ax.errorbar(d, m, yerr=e, fmt='o', color='red', ecolor='black', elinewidth=1.5, markersize=3)\n",
    "\n",
    "ax.set_xlabel('Seed Dimensioniality')\n",
    "ax.set_ylabel(\"d'\")\n",
    "ax.set_ylim([2.3,5.3])\n",
    "ax.set_xlim([0.5,5.5])\n",
    "\n",
    "#fig.savefig('sens_per_dim_vio.png', dpi=300)\n",
    "\n",
    "print(err_sen, me_sen)"
   ]
  },
  {
   "cell_type": "markdown",
   "metadata": {},
   "source": [
    "Student T-test on decreasing pairs"
   ]
  },
  {
   "cell_type": "code",
   "execution_count": 17,
   "metadata": {},
   "outputs": [
    {
     "name": "stdout",
     "output_type": "stream",
     "text": [
      "0.5850976713754943\n",
      "1.180299771230999\n",
      "1.076919185048545\n",
      "0.45823936361189554\n"
     ]
    }
   ],
   "source": [
    "std_sens = np.std(sens, axis=0)\n",
    "for pair in [[3, 4], [4, 2], [2,1], [1,0]]:\n",
    "    s2 = (41*(std_sens[pair[0]]**2) + 41*(std_sens[pair[1]]**2))/(42+42-2)\n",
    "    t = (me_sen[pair[0]] - me_sen[pair[1]])/(np.sqrt((2*s2)/42))\n",
    "    print(t)"
   ]
  },
  {
   "cell_type": "markdown",
   "metadata": {},
   "source": [
    "Model sensitivity peaked at 256 dimensionality, followed closely by 512 which speaks to more redundancies of the full dimensionality attention. Following these we see the next highest at 90, 42 and finally 17. All sensitivites to fall within the same range and match those found in Luo et al hence showing consistency in the balance of benefits and costs of the attention mechanism. A student t-test between the decreasing pairs of sensitivities reveals the null hypothesis that there is a difference between subsequent sensitivity means is under 50% or less than pure chance and max confidence exhibited at t(81)=1.18, p<0.3."
   ]
  },
  {
   "cell_type": "markdown",
   "metadata": {},
   "source": [
    "Criterion"
   ]
  },
  {
   "cell_type": "code",
   "execution_count": 17,
   "metadata": {},
   "outputs": [
    {
     "name": "stdout",
     "output_type": "stream",
     "text": [
      "[0.04571681 0.04161344 0.04320074 0.04799147 0.04585937] [0.80779169 0.75829193 0.69890143 0.54231853 0.48026056]\n"
     ]
    },
    {
     "data": {
      "image/png": "[encoded data removed]",
      "text/plain": [
       "<Figure size 432x288 with 1 Axes>"
      ]
     },
     "metadata": {
      "needs_background": "light"
     },
     "output_type": "display_data"
    }
   ],
   "source": [
    "# from scipy.stats import norm\n",
    "# sensitivity = pd.DataFrame(columns=['group', 'class', 17, 42, 90, 256])\n",
    "# for cl in classes:\n",
    "#     sensitivity = sensitivity.append({'group':'ave' if cl in ave else 'kitchen', 'class':cl, 17:0, 42:0, 90:0, 256:0}, ignore_index=True)\n",
    "\n",
    "# hr_arr = np.array(acc[dims])\n",
    "# hr_arr[np.where(hr_arr>0.995)[0], np.where(hr_arr>0.995)[1]] = 0.995\n",
    "# fp_arr = np.array(fp[dims])\n",
    "# z_hr = norm.ppf(hr_arr)\n",
    "# z_fp = norm.ppf(fp_arr)\n",
    "sens = - (z_hr + z_fp) / 2\n",
    "me_sen = np.mean(sens, axis=0)\n",
    "err_sen = np.std(sens, axis=0)/np.sqrt(sens.shape[0]) # Compute standard error\n",
    "\n",
    "\n",
    "#ax.errorbar([str(x) for x in dims], me_sen, yerr=err_sen, fmt='o', color='red', ecolor='grey', elinewidth=2.5, markersize=4)\n",
    "\n",
    "fig = plt.figure()\n",
    "ax = fig.add_subplot(111)\n",
    "ax.set_axisbelow(True)\n",
    "data=[sens[:,i] for i in range(5)]\n",
    "ax.grid(color='lightgrey', linestyle='-', axis='y')\n",
    "parts = ax.violinplot(data ,showmeans=False)\n",
    "for pc in parts['bodies']:\n",
    "    pc.set_facecolor('#D3D3D3')\n",
    "    #pc.set_edgecolor('red')\n",
    "    pc.set_alpha(0.6)\n",
    "for partname in ('cbars','cmins','cmaxes'):\n",
    "    vp = parts[partname]\n",
    "    vp.set_edgecolor('black')\n",
    "    vp.set_linewidth(1)\n",
    "    vp.set_alpha(0)\n",
    "\n",
    "# vp = parts['cmeans']\n",
    "# vp.set_edgecolor('red')\n",
    "# vp.set_linewidth(1)\n",
    "\n",
    "ax.set_xticks(np.arange(1, len([str(dim) for dim in dims]) + 1))\n",
    "ax.set_xticklabels([str(dim) for dim in dims])\n",
    "\n",
    "d = [str(x) for x in dims]\n",
    "d.insert(0, '0')\n",
    "m = me_sen.tolist()\n",
    "m.insert(0,0)\n",
    "e = err_sen.tolist()\n",
    "e.insert(0,0)\n",
    "ax.errorbar(d, m, yerr=e, fmt='o', color='red', ecolor='black', elinewidth=1.5, markersize=3)\n",
    "\n",
    "ax.set_xlabel('Seed Dimensioniality')\n",
    "ax.set_ylabel(\"Criterion\")\n",
    "ax.set_ylim([0,1.2])\n",
    "ax.set_xlim([0.5,5.5])\n",
    "\n",
    "fig.savefig('cri_per_dim_vio.png', dpi=300)\n",
    "\n",
    "print(err_sen, me_sen)"
   ]
  },
  {
   "cell_type": "markdown",
   "metadata": {},
   "source": [
    "Decreasing model\n",
    "criterion suggests that as seed dimensionality increased,\n",
    "the model was more biased in favour of a target class\n",
    "response, which was more likely to result in a false\n",
    "alarm"
   ]
  },
  {
   "cell_type": "markdown",
   "metadata": {},
   "source": [
    "Hit-Rate"
   ]
  },
  {
   "cell_type": "code",
   "execution_count": 36,
   "metadata": {},
   "outputs": [
    {
     "name": "stdout",
     "output_type": "stream",
     "text": [
      "[0.02005009 0.01840674 0.01704584 0.01371589 0.01412471] [0.79133227 0.81598829 0.8417778  0.88999311 0.89268823]\n"
     ]
    },
    {
     "data": {
      "image/png": "[encoded data removed]",
      "text/plain": [
       "<Figure size 432x288 with 1 Axes>"
      ]
     },
     "metadata": {
      "needs_background": "light"
     },
     "output_type": "display_data"
    }
   ],
   "source": [
    "me_hr = np.mean(hr_arr, axis=0)\n",
    "err_hr = np.std(hr_arr, axis=0)/np.sqrt(sens.shape[0]) # Compute standard error\n",
    "\n",
    "fig = plt.figure()\n",
    "ax = fig.add_subplot(111)\n",
    "ax.set_axisbelow(True)\n",
    "data=[hr_arr[:,i] for i in range(5)]\n",
    "ax.grid(color='lightgrey', linestyle='-', axis='y')\n",
    "parts = ax.violinplot(data ,showmeans=False)\n",
    "for pc in parts['bodies']:\n",
    "    pc.set_facecolor('#D3D3D3')\n",
    "    #pc.set_edgecolor('red')\n",
    "    pc.set_alpha(0.6)\n",
    "for partname in ('cbars','cmins','cmaxes'):\n",
    "    vp = parts[partname]\n",
    "    vp.set_edgecolor('black')\n",
    "    vp.set_linewidth(1)\n",
    "    vp.set_alpha(0)\n",
    "\n",
    "ax.set_xticks(np.arange(1, len([str(dim) for dim in dims]) + 1))\n",
    "ax.set_xticklabels([str(dim) for dim in dims])\n",
    "\n",
    "d = [str(x) for x in dims]\n",
    "d.insert(0, '0')\n",
    "m = me_hr.tolist()\n",
    "m.insert(0,0)\n",
    "e = err_hr.tolist()\n",
    "e.insert(0,0)\n",
    "ax.errorbar(d, m, yerr=e, fmt='o', color='red', ecolor='black', elinewidth=1.5, markersize=3)\n",
    "\n",
    "ax.set_xlabel('Seed Dimensioniality')\n",
    "ax.set_ylabel(\"Hit Rate\")\n",
    "ax.set_ylim([0.6, 1])\n",
    "ax.set_xlim([0.55,5.5])\n",
    "print(err_hr, me_hr)\n",
    "fig.savefig('hr_per_dim_vio.png', dpi=300)"
   ]
  },
  {
   "cell_type": "markdown",
   "metadata": {},
   "source": [
    "False-positive rate"
   ]
  },
  {
   "cell_type": "code",
   "execution_count": 12,
   "metadata": {},
   "outputs": [
    {
     "name": "stdout",
     "output_type": "stream",
     "text": [
      "[0.00048009 0.00110378 0.00065721 0.00092531 0.00159019] [0.00048591 0.0015092  0.00095238 0.00194488 0.0062496 ]\n"
     ]
    },
    {
     "data": {
      "image/png": "[encoded data removed]",
      "text/plain": [
       "<Figure size 432x288 with 1 Axes>"
      ]
     },
     "metadata": {
      "needs_background": "light"
     },
     "output_type": "display_data"
    }
   ],
   "source": [
    "fp_arr = np.vstack([fp[i][dims] for i in range(3)])\n",
    "me_hr = np.mean(fp_arr, axis=0)\n",
    "err_hr = np.std(fp_arr, axis=0)/np.sqrt(fp_arr.shape[0]) # Compute standard error\n",
    "\n",
    "fig = plt.figure()\n",
    "ax = fig.add_subplot(111)\n",
    "ax.set_axisbelow(True)\n",
    "data=[fp_arr[:,i] for i in range(5)]\n",
    "ax.grid(color='lightgrey', linestyle='-', axis='y')\n",
    "parts = ax.violinplot(data ,showmeans=False)\n",
    "for pc in parts['bodies']:\n",
    "    pc.set_facecolor('#D3D3D3')\n",
    "    #pc.set_edgecolor('red')\n",
    "    pc.set_alpha(0.6)\n",
    "for partname in ('cbars','cmins','cmaxes'):\n",
    "    vp = parts[partname]\n",
    "    vp.set_edgecolor('black')\n",
    "    vp.set_linewidth(1)\n",
    "    vp.set_alpha(0)\n",
    "\n",
    "ax.set_xticks(np.arange(1, len([str(dim) for dim in dims]) + 1))\n",
    "ax.set_xticklabels([str(dim) for dim in dims])\n",
    "\n",
    "d = [str(x) for x in dims]\n",
    "d.insert(0, '0')\n",
    "m = me_hr.tolist()\n",
    "m.insert(0,0)\n",
    "e = err_hr.tolist()\n",
    "e.insert(0,0)\n",
    "ax.errorbar(d, m, yerr=e, fmt='o', color='red', ecolor='black', elinewidth=1.5, markersize=3)\n",
    "\n",
    "ax.set_xlabel('Seed Dimensioniality')\n",
    "ax.set_ylabel(\"False Positive Rate\")\n",
    "ax.set_ylim([0, 0.01])\n",
    "ax.set_xlim([0.5,5.5])\n",
    "\n",
    "print(err_hr, me_hr)\n",
    "#fig.savefig('fp_per_dim_vio.png', dpi=300)"
   ]
  },
  {
   "cell_type": "markdown",
   "metadata": {},
   "source": [
    "Attention Weights"
   ]
  },
  {
   "cell_type": "code",
   "execution_count": 5,
   "metadata": {},
   "outputs": [],
   "source": [
    "s = {512:[],17:[], 42:[], 90:[], 256:[]}\n",
    "p = {512:[],17:[], 42:[], 90:[], 256:[]}\n",
    "s_b = {512:[],17:[], 42:[], 90:[], 256:[]}\n",
    "p_b = {512:[],17:[], 42:[], 90:[], 256:[]}\n",
    "\n",
    "# # Begin the tests for each class (baseline)\n",
    "# for dim in [17, 42, 90, 256]:\n",
    "#     model = tf.keras.models.load_model('models/vgg_trained')\n",
    "#     model.trainable = False\n",
    "#     model = insert_attention_layer_in_keras(p_mat_dict[dim], model, ['block5_conv1'])\n",
    "\n",
    "#     model.load_weights(f'models/baseline_fixed/{dim}/model_weights')\n",
    "    \n",
    "\n",
    "# Begin the tests for each class (target)\n",
    "for dim in [17, 42, 90, 256, 512]:\n",
    "    model = tf.keras.models.load_model('models/vgg_trained')\n",
    "    model.trainable = False\n",
    "    model = insert_attention_layer_in_keras(p_mat_dict[dim], model, ['block5_conv1'])\n",
    "\n",
    "    for cl in classes:\n",
    "        for j, i in enumerate(['', '2', '3']):\n",
    "            model.load_weights(f'models/task_models_fixed/{cl}/{dim}/model_weights{i}')\n",
    "            s[dim].extend(model.get_layer('attention_block5_conv1').seeds.numpy().tolist())\n",
    "            p[dim].extend((model.get_layer('attention_block5_conv1').seeds@model.get_layer('attention_block5_conv1').projection_mat + model.get_layer('attention_block5_conv1').bias).numpy().tolist())\n",
    "    \n",
    "    # Baselines\n",
    "    for j, i in enumerate(['', '2', '3']):\n",
    "        model.load_weights(f'models/baseline_fixed/{dim}/model_weights{i}')\n",
    "        s_b[dim].extend(model.get_layer('attention_block5_conv1').seeds.numpy().tolist())\n",
    "        p_b[dim].extend((model.get_layer('attention_block5_conv1').seeds@model.get_layer('attention_block5_conv1').projection_mat + model.get_layer('attention_block5_conv1').bias).numpy().tolist())"
   ]
  },
  {
   "cell_type": "code",
   "execution_count": 32,
   "metadata": {},
   "outputs": [
    {
     "name": "stdout",
     "output_type": "stream",
     "text": [
      "[0.04402432277028887, 0.031219062784685343, 0.04499613689514494, 0.08305185004579155, 0.23198865983585673] [0.13618498348945307, 0.1591946110467524, 0.17391045852239048, 0.1955830966604473, 0.4335559330933417]\n"
     ]
    },
    {
     "data": {
      "image/png": "[encoded data removed]",
      "text/plain": [
       "<Figure size 1440x288 with 5 Axes>"
      ]
     },
     "metadata": {
      "needs_background": "light"
     },
     "output_type": "display_data"
    }
   ],
   "source": [
    "for k,v in s.items():\n",
    "    s[k] = [item for sublist in v for item in sublist]\n",
    "for k,v in p.items():\n",
    "    p[k] = [item for sublist in v for item in sublist]\n",
    "for k,v in s_b.items():\n",
    "    s_b[k] = [item for sublist in v for item in sublist]\n",
    "for k,v in p_b.items():\n",
    "    p_b[k] = [item for sublist in v for item in sublist]\n",
    "\n",
    "std_p = []\n",
    "std_pb = []\n",
    "fig2, (ax1, ax2, ax3, ax4, ax5) = plt.subplots(1, 5,figsize=(20,4))\n",
    "axes = [ax1, ax2, ax3, ax4, ax5]\n",
    "\n",
    "for i,d in enumerate(dims):\n",
    "    axes[i].set_axisbelow(True)\n",
    "    # axes[i].yaxis.grid(color='gray', linestyle='dashed')\n",
    "    # axes[i].xaxis.grid(color='gray', linestyle='dashed')\n",
    "    axes[i].hist(p_b[d], bins=15, density=True, alpha=0.6, label='Baseline', color='grey')\n",
    "    axes[i].hist(p[d], bins=30, density=True, alpha=0.5, label='Task-Specific',)\n",
    "    axes[i].set_xlabel(str(d))\n",
    "    axes[i].set_xlim([0, 3])\n",
    "    axes[i].set_ylim([0, 4.5])\n",
    "    axes[i].axvline(x=np.mean(p[d]), color='r', linewidth=0.7, label='Task-Specific Mean')\n",
    "    axes[i].axvline(x=np.mean(p_b[d]), color='black', linewidth=0.7, label='Baseline Mean')\n",
    "    std_p.append(np.std(p[d]))\n",
    "    std_pb.append(np.std(p_b[d]))\n",
    "    \n",
    "fig2.text(0.5, -0.04, 'Seeds Weight Magnitude', ha='center', va='center')\n",
    "fig2.text(0.1, 0.5, 'Probability Density', ha='center', va='center', rotation='vertical')\n",
    "#fig2.legend(fontsize='small', labels=['Task-Specific Mean', 'Baseline Mean', 'Baseline', 'Task-Specific'], bbox_to_anchor=[0.95,0.85])\n",
    "axes[i].legend(fontsize='x-large', loc='upper right', bbox_to_anchor=(1.04, 1.5))\n",
    "fig2.savefig(f'attention_spread.png', bbox_inches='tight', dpi=300)\n",
    "    \n",
    "print(std_pb, std_p)"
   ]
  },
  {
   "cell_type": "code",
   "execution_count": 59,
   "metadata": {},
   "outputs": [],
   "source": [
    "import scipy"
   ]
  },
  {
   "cell_type": "code",
   "execution_count": 31,
   "metadata": {},
   "outputs": [
    {
     "name": "stdout",
     "output_type": "stream",
     "text": [
      "[0.6429527800926137, 0.9674961635597963, 0.9678506445938077, 0.7687946108204474, 0.09959786706943252] [3.955750020859181, 4.480606531445803, 3.9024424553986377, 2.702727780050043, 0.13355702865728197]\n"
     ]
    },
    {
     "data": {
      "image/png": "[encoded data removed]",
      "text/plain": [
       "<Figure size 1440x288 with 5 Axes>"
      ]
     },
     "metadata": {
      "needs_background": "light"
     },
     "output_type": "display_data"
    }
   ],
   "source": [
    "std_s = []\n",
    "std_sb = []\n",
    "b_b = [5, 6, 8,8,8]\n",
    "fig2, (ax1, ax2, ax3, ax4, ax5) = plt.subplots(1, 5,figsize=(20,4))\n",
    "axes = [ax1, ax2, ax3, ax4, ax5]\n",
    "for i, d in enumerate(dims):\n",
    "    axes[i].set_axisbelow(True)\n",
    "    # axes[i].yaxis.grid(color='gray', linestyle='dashed')\n",
    "    # axes[i].xaxis.grid(color='gray', linestyle='dashed')\n",
    "    axes[i].hist(s_b[d], bins=b_b[i], density=True, alpha=0.6, label='Baseline', color='grey', )\n",
    "    axes[i].hist(s[d], bins=30, density=True, alpha=0.5, label='Task-Specific',)\n",
    "    axes[i].set_xlim([-1, 1] if d==512 else [-10, 10])\n",
    "    axes[i].set_ylim([0, 7] if d==512 else [0, 0.65])\n",
    "    axes[i].set_xlabel(str(d))\n",
    "    axes[i].axvline(x=np.mean(s[d]), color='r', linewidth=0.7, label='Task-Specific Mean')\n",
    "    axes[i].axvline(x=np.mean(s_b[d]), color='black', linewidth=0.7, label='Baseline Mean')\n",
    "    std_s.append(np.std(s[d]))\n",
    "    std_sb.append(np.std(s_b[d]))\n",
    "\n",
    "fig2.text(0.5, -0.04, 'Seeds Weight Magnitude', ha='center', va='center')\n",
    "fig2.text(0.1, 0.5, 'Probability Density', ha='center', va='center', rotation='vertical')\n",
    "# axes[i].set_xlabel('Projected Attention Weight Magnitude')\n",
    "# axes[i].set_ylabel('Probability Density')\n",
    "#fig2.legend(fontsize='small', labels=['Task-Specific Mean', 'Baseline Mean', 'Baseline', 'Task-Specific'], bbox_to_anchor=[0.95,0.85])\n",
    "axes[i].legend(fontsize='x-large', loc='upper right', bbox_to_anchor=(1.04, 1.5))\n",
    "fig2.savefig(f'seed_spread.png', bbox_inches='tight', dpi=300)\n",
    "print(std_sb, std_s)"
   ]
  },
  {
   "cell_type": "code",
   "execution_count": 62,
   "metadata": {},
   "outputs": [
    {
     "name": "stdout",
     "output_type": "stream",
     "text": [
      "SpearmanrResult(correlation=0.5590341382180067, pvalue=0.0)\n",
      "SpearmanrResult(correlation=0.5506727637944752, pvalue=0.0)\n",
      "SpearmanrResult(correlation=0.4059687415806973, pvalue=0.0)\n",
      "SpearmanrResult(correlation=0.2556729435670416, pvalue=0.0)\n",
      "SpearmanrResult(correlation=0.3476586192936679, pvalue=5.430042661653434e-16)\n",
      "SpearmanrResult(correlation=0.4749498603815474, pvalue=3.612670697864645e-30)\n",
      "SpearmanrResult(correlation=0.3231041537920143, pvalue=6.62450834906289e-14)\n",
      "SpearmanrResult(correlation=0.22882441549078178, pvalue=1.6528785130369358e-07)\n"
     ]
    }
   ],
   "source": [
    "for pair in [[17,42], [42,90], [90,256], [256,512]]:\n",
    "    print(scipy.stats.spearmanr(p[pair[0]], p[pair[1]]))\n",
    "for pair in [[17,42], [42,90], [90,256], [256,512]]:\n",
    "    print(scipy.stats.spearmanr(p_b[pair[0]], p_b[pair[1]]))"
   ]
  },
  {
   "cell_type": "code",
   "execution_count": 22,
   "metadata": {},
   "outputs": [],
   "source": [
    "from scipy import stats"
   ]
  },
  {
   "cell_type": "markdown",
   "metadata": {},
   "source": [
    "Per-filter analysis"
   ]
  },
  {
   "cell_type": "code",
   "execution_count": null,
   "metadata": {},
   "outputs": [],
   "source": [
    "f_dict = {d:{i:[] for i in range(512)} for d in dims}\n",
    "f_dict_b = {d:{i:[] for i in range(512)} for d in dims}\n",
    "\n",
    "for dim in [17, 42, 90, 256, 512]:\n",
    "    model = tf.keras.models.load_model('models/vgg_trained')\n",
    "    model.trainable = False\n",
    "    model = insert_attention_layer_in_keras(p_mat_dict[dim], model, ['block5_conv1'])\n",
    "\n",
    "    for cl in classes:\n",
    "        model.load_weights(f'models/task_models_fixed/{cl}/{dim}/model_weights')\n",
    "        pj = np.squeeze(model.get_layer('attention_block5_conv1').seeds@model.get_layer('attention_block5_conv1').projection_mat + model.get_layer('attention_block5_conv1').bias)\n",
    "        for i in range(512):\n",
    "            f_dict[dim][i].append(pj[i])\n",
    "    \n",
    "    # Baselines\n",
    "    model.load_weights(f'models/baseline_fixed/{dim}/model_weights')\n",
    "    pj = np.squeeze(model.get_layer('attention_block5_conv1').seeds@model.get_layer('attention_block5_conv1').projection_mat + model.get_layer('attention_block5_conv1').bias)\n",
    "    for i in range(512):\n",
    "        f_dict_b[dim][i].append(pj[i])"
   ]
  },
  {
   "cell_type": "code",
   "execution_count": null,
   "metadata": {},
   "outputs": [],
   "source": [
    "f_dict_m = {d:{i:[] for i in range(512)} for d in dims}\n",
    "f_dict_b_m = {d:{i:[] for i in range(512)} for d in dims}\n",
    "\n",
    "for k,v in f_dict_m.items():\n",
    "    for j,p in f_dict_m[k].items():\n",
    "        f_dict_m[k][j] = [np.mean(f_dict[k][j]), np.std(f_dict[k][j])]\n",
    "for k,v in f_dict_b_m.items():\n",
    "    for j,p in f_dict_b_m[k].items():\n",
    "        f_dict_b_m[k][j] = [np.mean(f_dict_b[k][j]), np.std(f_dict_b[k][j])]"
   ]
  },
  {
   "cell_type": "code",
   "execution_count": null,
   "metadata": {},
   "outputs": [],
   "source": [
    "std_s = []\n",
    "std_sb = []\n",
    "b_b = [5, 6, 8,8,8]\n",
    "fig2, (ax1, ax2, ax3, ax4, ax5) = plt.subplots(1, 5,figsize=(20,4))\n",
    "axes = [ax1, ax2, ax3, ax4, ax5]\n",
    "\n",
    "\n",
    "\n",
    "for i, d in enumerate(dims):\n",
    "    axes[i].set_axisbelow(True)\n",
    "    # axes[i].yaxis.grid(color='gray', linestyle='dashed')\n",
    "    # axes[i].xaxis.grid(color='gray', linestyle='dashed')\n",
    "    axes[i].\n",
    "    # axes[i].set_xlim([-1, 1] if d==512 else [-10, 10])\n",
    "    # axes[i].set_ylim([0, 7] if d==512 else [0, 0.65])\n",
    "    axes[i].set_xlabel(str(d))\n",
    "    axes[i].axvline(x=np.mean(s[d]), color='r', linewidth=0.7, label='Task-Specific Mean')\n",
    "    axes[i].axvline(x=np.mean(s_b[d]), color='black', linewidth=0.7, label='Baseline Mean')\n",
    "    std_s.append(np.std(s[d]))\n",
    "    std_sb.append(np.std(s_b[d]))\n",
    "\n",
    "fig2.text(0.5, -0.05, 'Seeds Weight Magnitude', ha='center', va='center')\n",
    "fig2.text(0.1, 0.5, 'Probability Density', ha='center', va='center', rotation='vertical')\n",
    "# axes[i].set_xlabel('Projected Attention Weight Magnitude')\n",
    "# axes[i].set_ylabel('Probability Density')\n",
    "#fig2.legend(fontsize='small', labels=['Task-Specific Mean', 'Baseline Mean', 'Baseline', 'Task-Specific'], bbox_to_anchor=[0.95,0.85])\n",
    "axes[i].legend(fontsize='x-small',)\n",
    "fig2.savefig(f'seed_spread.png', dpi=300)\n",
    "print(std_sb, std_s)"
   ]
  },
  {
   "cell_type": "code",
   "execution_count": null,
   "metadata": {},
   "outputs": [],
   "source": [
    "for d in dims:\n",
    "    fig, ax2[0] = plt.subplots(figsize=(20,5))\n",
    "    ax2[0].set_axisbelow(True)\n",
    "    ax2[0].errorbar([n for n in f_dict[d].keys()], [m[0] for m in f_dict[d].values()], yerr=[m[1] for m in f_dict[d].values()], fmt='o', color='red', ecolor='black', elinewidth=1.5, markersize=3)\n",
    "    ax2[0].grid(color='lightgrey', linestyle='-', axis='y')\n",
    "    ax2[0].set_xlabel('Seed Dimensionality')\n",
    "    ax2[0].set_ylabel('Accuracy Change')\n",
    "    # fig.savefig('acc_change_per_all_dims.png', dpi=300)"
   ]
  },
  {
   "cell_type": "code",
   "execution_count": null,
   "metadata": {},
   "outputs": [],
   "source": [
    "d_m = {i:[] for i in range(512)} \n",
    "d_b_m = {i:[] for i in range(512)} \n",
    "\n",
    "for k,v in f_dict_m.items():\n",
    "    for j,p in f_dict_m[k].items():\n",
    "        d_m[j].append(p[0])\n",
    "for k,v in f_dict_b_m.items():\n",
    "    for j,p in f_dict_b_m[k].items():\n",
    "        d_b_m[j].append(p[0])\n",
    "for k,v in d_m.items():\n",
    "    d_m[k] = np.mean(d_m[k])\n",
    "for k,v in d_b_m.items():\n",
    "    d_b_m[k] = np.mean(d_b_m[k])"
   ]
  },
  {
   "cell_type": "code",
   "execution_count": null,
   "metadata": {},
   "outputs": [],
   "source": [
    "fig, ax2[0] = plt.subplots(figsize=(20,5))\n",
    "ax2[0].set_axisbelow(True)\n",
    "ax2[0].scatter(list(d_m.keys()), list(d_m.values()))\n",
    "ax2[0].grid(color='lightgrey', linestyle='-', axis='y')\n",
    "ax2[0].set_xlabel('Seed Dimensionality')\n",
    "ax2[0].set_ylabel('Accuracy Change')\n",
    "ax2[0].set_ylim([0, 1.2])\n",
    "# fig.savefig('acc_change_per_all_dims.png', dpi=300)"
   ]
  },
  {
   "cell_type": "code",
   "execution_count": null,
   "metadata": {},
   "outputs": [],
   "source": [
    "s_w = {j:{i:[] for i in range(j)} for j in [17, 42, 90, 256, 512]}\n",
    "s_w_b =  {j:{i:[] for i in range(j)} for j in [17, 42, 90, 256, 512]}\n",
    "\n",
    "for dim in [17, 42, 90, 256, 512]:\n",
    "    model = tf.keras.models.load_model('models/vgg_trained')\n",
    "    model.trainable = False\n",
    "    model = insert_attention_layer_in_keras(p_mat_dict[dim], model, ['block5_conv1'])\n",
    "\n",
    "    for cl in classes:\n",
    "        model.load_weights(f'models/task_models_fixed/{cl}/{dim}/model_weights')\n",
    "        pj = np.squeeze(model.get_layer('attention_block5_conv1').seeds)\n",
    "        for i in range(dim):\n",
    "            s_w[dim][i].append(pj[i])\n",
    "    \n",
    "    # Baselines\n",
    "    model.load_weights(f'models/baseline_fixed/{dim}/model_weights')\n",
    "    pj = np.squeeze(model.get_layer('attention_block5_conv1').seeds)\n",
    "    for i in range(dim):\n",
    "        s_w_b[dim][i].append(pj[i])\n",
    "\n",
    "f_dict_m = {j:{i:[] for i in range(j)} for j in [17, 42, 90, 256, 512]}\n",
    "f_dict_b_m = {j:{i:[] for i in range(j)} for j in [17, 42, 90, 256, 512]}\n",
    "\n",
    "for k,v in s_w.items():\n",
    "    for j,p in s_w[k].items():\n",
    "        f_dict_m[k][j] = [np.mean(s_w[k][j]), np.std(s_w[k][j])]\n",
    "for k,v in s_w_b.items():\n",
    "    for j,p in s_w_b[k].items():\n",
    "        f_dict_b_m[k][j] = [np.mean(s_w_b[k][j]), np.std(s_w_b[k][j])]"
   ]
  },
  {
   "cell_type": "code",
   "execution_count": null,
   "metadata": {},
   "outputs": [],
   "source": [
    "for d in dims:\n",
    "    fig, ax2[0] = plt.subplots(figsize=(20,5))\n",
    "    ax2[0].set_axisbelow(True)\n",
    "    ax2[0].errorbar([n+1 for n in s_w[d].keys()], [m[0] for m in s_w[d].values()], yerr=[m[1] for m in s_w[d].values()], fmt='o', color='red', ecolor='black', elinewidth=1.5, markersize=3)\n",
    "    ax2[0].grid(color='lightgrey', linestyle='-', axis='y')\n",
    "    ax2[0].set_xlabel('Seed Dimensionality')\n",
    "    ax2[0].set_ylabel('Accuracy Change')\n",
    "    # fig.savefig('acc_change_per_all_dims.png', dpi=300)"
   ]
  }
 ],
 "metadata": {
  "kernelspec": {
   "display_name": "Python 3.9.2 ('splash2')",
   "language": "python",
   "name": "python3"
  },
  "language_info": {
   "codemirror_mode": {
    "name": "ipython",
    "version": 3
   },
   "file_extension": ".py",
   "mimetype": "text/x-python",
   "name": "python",
   "nbconvert_exporter": "python",
   "pygments_lexer": "ipython3",
   "version": "3.9.2"
  },
  "orig_nbformat": 4,
  "vscode": {
   "interpreter": {
    "hash": "febfae6c9c9e1571e6e03dfd739a8f6fb010085a8ae682416bd437b2f090be32"
   }
  }
 },
 "nbformat": 4,
 "nbformat_minor": 2
}
