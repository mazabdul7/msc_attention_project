{
 "cells": [
  {
   "cell_type": "code",
   "execution_count": 1,
   "metadata": {},
   "outputs": [],
   "source": [
    "import os\n",
    "from random import sample\n",
    "os.environ['TF_CPP_MIN_LOG_LEVEL'] = '3' # Must be set before importing TF to supress messages\n",
    "os.environ[\"CUDA_VISIBLE_DEVICES\"]= '2'\n",
    "\n",
    "import tensorflow as tf\n",
    "from tensorflow.keras.callbacks import CSVLogger\n",
    "import numpy as np\n",
    "from utils.loader import DataLoader\n",
    "from utils.tools import test_model, insert_attention_layer_in_keras\n",
    "from utils.data_sampler import CustomDataGenerator, CustomIterator\n",
    "from utils.configs import config\n",
    "from typing import List\n",
    "import pymf\n",
    "import pandas as pd\n",
    "\n",
    "def load_VGG_model(img_height: int, img_width: int, lr: int, loss: tf.keras.losses.Loss, metrics: List[str], trainable: True) -> tf.keras.Model:\n",
    "    \"\"\" Loads VGG-16 model.\n",
    "\n",
    "    Args:\n",
    "        img_height (int): Image height.\n",
    "        img_width (int): Image width.\n",
    "        lr (int): Learning rate.\n",
    "        loss (tf.keras.losses.Loss): Model loss.\n",
    "        metrics (List[str]): Training metrics.\n",
    "        trainable (True): Set if model weights should be kept frozen or not.\n",
    "\n",
    "    Returns:\n",
    "        tf.keras.Model: TensorFlow VGG-16 model.\n",
    "    \"\"\"\n",
    "    model = tf.keras.applications.vgg16.VGG16(input_shape=(img_height, img_width, 3))\n",
    "    model.trainable = trainable\n",
    "    model.compile(optimizer=tf.keras.optimizers.Adam(lr, epsilon=0.1),\n",
    "                loss=loss,\n",
    "                metrics=metrics)\n",
    "\n",
    "    return model\n",
    "\n",
    "def test_model(model, test_set: CustomIterator, class_name) -> None:\n",
    "    \"\"\" Test the passed model for its Top-1 accuracy on the passed test set.\n",
    "\n",
    "    Args:\n",
    "        model (Model): TensorFlow model.\n",
    "        test_set (CustomIterator): Test set to test on.\n",
    "    \"\"\"\n",
    "    test_set.reset()\n",
    "    pred = model.predict(test_set, steps=test_set.n//test_set.batch_size, verbose=0)\n",
    "    pred = np.argmax(pred, axis=-1)\n",
    "    \n",
    "    print('Computing accuracy...')\n",
    "    accuracy = np.sum(pred == test_set.class_indices[class_name])/len(pred)\n",
    "\n",
    "    return accuracy"
   ]
  },
  {
   "cell_type": "code",
   "execution_count": 2,
   "metadata": {},
   "outputs": [
    {
     "name": "stdout",
     "output_type": "stream",
     "text": [
      "Loading test set...\n",
      "Found 48238 images belonging to 1000 classes.\n"
     ]
    }
   ],
   "source": [
    "# Set configs\n",
    "img_height = 224\n",
    "img_width = 224\n",
    "batch_size = 128\n",
    "\n",
    "test_datagen = CustomDataGenerator(\n",
    "                preprocessing_function=tf.keras.applications.vgg16.preprocess_input, dtype=tf.float32)\n",
    "\n",
    "# Load ImageNet dataset with the VGG augmentation\n",
    "loader = DataLoader(batch_size, (img_height, img_width))\n",
    "test_set = loader.load_test_set(aug_test=test_datagen, set_batch_size=False)"
   ]
  },
  {
   "cell_type": "code",
   "execution_count": 3,
   "metadata": {},
   "outputs": [
    {
     "name": "stdout",
     "output_type": "stream",
     "text": [
      "Loading train set...\n",
      "Found 1153101 images belonging to 1000 classes.\n"
     ]
    }
   ],
   "source": [
    "train_datagen = CustomDataGenerator(\n",
    "                horizontal_flip=True,\n",
    "                validation_split=0.1,\n",
    "                preprocessing_function=tf.keras.applications.vgg16.preprocess_input, dtype=tf.float32)\n",
    "train_set = loader.load_train_set(aug_train=train_datagen, class_mode='categorical', shuffle=True)"
   ]
  },
  {
   "cell_type": "code",
   "execution_count": 3,
   "metadata": {},
   "outputs": [],
   "source": [
    "# Load pre-trained VGG-16 model\n",
    "tf.keras.backend.clear_session()\n",
    "model = tf.keras.models.load_model('models/vgg_trained')\n",
    "model.trainable = False\n",
    "\n",
    "# Get layer kernel\n",
    "kernel = model.get_layer('block4_conv3').kernel\n",
    "flat_kernel = tf.reshape(kernel, [-1, kernel.shape[-1]]).numpy()"
   ]
  },
  {
   "cell_type": "code",
   "execution_count": 4,
   "metadata": {},
   "outputs": [],
   "source": [
    "p_mat_dict = {}\n",
    "\n",
    "for dim in [17, 42, 90, 256]:\n",
    "    # Get projection matrix via SNMF\n",
    "    n_comp = dim\n",
    "\n",
    "    nmf = pymf.SNMF(flat_kernel, num_bases=n_comp)\n",
    "    nmf.factorize(niter=400)\n",
    "    p_mat = nmf.H\n",
    "\n",
    "    p_mat_dict[dim] = p_mat"
   ]
  },
  {
   "cell_type": "code",
   "execution_count": 7,
   "metadata": {},
   "outputs": [],
   "source": [
    "# Compile model\n",
    "model.compile(optimizer=tf.keras.optimizers.Adam(3e-4),\n",
    "                loss=tf.keras.losses.CategoricalCrossentropy(),\n",
    "                metrics=['accuracy'])"
   ]
  },
  {
   "cell_type": "code",
   "execution_count": 4,
   "metadata": {},
   "outputs": [],
   "source": [
    "classes = ['n01534433', 'n01608432', 'n01806143', 'n01820546', 'n01833805', 'n01855672', 'n02012849', 'n03887697', 'n03207941','n02906734', 'n04131690', 'n03775546', 'n04553703', 'n03207743'] \n",
    "ave = ['n01534433', 'n01608432', 'n01806143', 'n01820546', 'n01833805', 'n01855672', 'n02012849'] \n",
    "kitchen = ['n03887697', 'n03207941','n02906734', 'n04131690', 'n03775546', 'n04553703', 'n03207743']"
   ]
  },
  {
   "cell_type": "code",
   "execution_count": 11,
   "metadata": {},
   "outputs": [],
   "source": [
    "nmf = pymf.SNMF(flat_kernel, num_bases=17)\n",
    "nmf.factorize(niter=400)\n",
    "p_mat = nmf.H"
   ]
  },
  {
   "cell_type": "code",
   "execution_count": null,
   "metadata": {},
   "outputs": [],
   "source": [
    "model = tf.keras.models.load_model('models/vgg_trained')\n",
    "model.trainable = False\n",
    "model = insert_attention_layer_in_keras(p_mat, model, ['block5_conv1'])\n",
    "\n",
    "model.load_weights(f'models/baselines/{17}/model_weights')\n",
    "test_set.set_target_sampling(['n01608432'], [1])\n",
    "acc_val = test_model(model, test_set, 'n01608432')\n",
    "print(acc_val) \n",
    "a = model.get_layer('attention_block5_conv1').seeds.numpy()\n",
    "print(np.sum(a==0)/(a.shape[0]*a.shape[1]))"
   ]
  },
  {
   "cell_type": "code",
   "execution_count": 7,
   "metadata": {},
   "outputs": [],
   "source": [
    "import matplotlib.pyplot as plt"
   ]
  },
  {
   "cell_type": "code",
   "execution_count": 8,
   "metadata": {},
   "outputs": [
    {
     "data": {
      "text/plain": [
       "(0.0, 2.0)"
      ]
     },
     "execution_count": 8,
     "metadata": {},
     "output_type": "execute_result"
    },
    {
     "data": {
      "image/png": "[encoded data removed]",
      "text/plain": [
       "<Figure size 432x288 with 1 Axes>"
      ]
     },
     "metadata": {
      "needs_background": "light"
     },
     "output_type": "display_data"
    }
   ],
   "source": [
    "# a = model.get_layer('attention_block5_conv1').seeds.numpy()\n",
    "# print(np.sum(a==0)/(a.shape[0]*a.shape[1]))\n",
    "\n",
    "pj = model.get_layer('attention_block5_conv1').seeds @ model.get_layer('attention_block5_conv1').projection_mat + model.get_layer('attention_block5_conv1').bias\n",
    "fig2, ax2 = plt.subplots()\n",
    "ax2.set_axisbelow(True)\n",
    "ax2.yaxis.grid(color='gray', linestyle='dashed')\n",
    "ax2.xaxis.grid(color='gray', linestyle='dashed')\n",
    "ax2.hist(pj.numpy().tolist(), bins=25)\n",
    "ax2.set_xlabel('Projected Attention Weight Value')\n",
    "ax2.set_ylabel('Number of Occurences')\n",
    "ax2.set_xlim([0, 2])\n",
    "#fig2.savefig(f'e-2_base.png')"
   ]
  },
  {
   "cell_type": "code",
   "execution_count": null,
   "metadata": {},
   "outputs": [],
   "source": [
    "model = tf.keras.models.load_model('models/vgg_trained')\n",
    "model.trainable = False\n",
    "nmf = pymf.SNMF(flat_kernel, num_bases=17)\n",
    "nmf.factorize(niter=400)\n",
    "p_mat = nmf.H\n",
    "model = insert_attention_layer_in_keras(p_mat, model, ['block5_conv1'])\n",
    "model.load_weights(f'models/task_models/n01534433/{17}/model_weights')\n",
    "\n",
    "pj = model.get_layer('attention_block5_conv1').seeds @ model.get_layer('attention_block5_conv1').projection_mat + model.get_layer('attention_block5_conv1').bias\n",
    "fig2, ax2 = plt.subplots()\n",
    "ax2.set_axisbelow(True)\n",
    "ax2.yaxis.grid(color='gray', linestyle='dashed')\n",
    "ax2.xaxis.grid(color='gray', linestyle='dashed')\n",
    "ax2.hist(pj.numpy().tolist(), bins=18)\n",
    "ax2.set_xlabel('(normalised) frequency * rank')\n",
    "ax2.set_ylabel('Number of Occurences')\n",
    "ax2.set_xlim([0, 2])"
   ]
  },
  {
   "cell_type": "code",
   "execution_count": null,
   "metadata": {},
   "outputs": [],
   "source": [
    "sparsity = {}\n",
    "b = [0, 40, 18, 12]\n",
    "for i in [17,42,90]:\n",
    "    model = tf.keras.models.load_model('models/vgg_trained')\n",
    "    model.trainable = False\n",
    "    nmf = pymf.SNMF(flat_kernel, num_bases=i)\n",
    "    nmf.factorize(niter=400)\n",
    "    p_mat = nmf.H\n",
    "    model = insert_attention_layer_in_keras(p_mat, model, ['block5_conv1'])\n",
    "    model.load_weights(f'models/task_models/n01534433/{i}/model_weights')\n",
    "    a = model.get_layer('attention_block5_conv1').seeds.numpy()\n",
    "    sparsity[f'{i}']=np.sum(a==0)/(a.shape[0]*a.shape[1])\n",
    "\n",
    "    pj = model.get_layer('attention_block5_conv1').seeds @ model.get_layer('attention_block5_conv1').projection_mat + model.get_layer('attention_block5_conv1').bias\n",
    "    fig2, ax2 = plt.subplots()\n",
    "    ax2.set_axisbelow(True)\n",
    "    ax2.yaxis.grid(color='gray', linestyle='dashed')\n",
    "    ax2.xaxis.grid(color='gray', linestyle='dashed')\n",
    "    ax2.hist(pj.numpy().tolist(), bins=18)\n",
    "    ax2.set_xlabel('(normalised) frequency * rank')\n",
    "    ax2.set_ylabel('Number of Occurences')\n",
    "    ax2.set_xlim([0, 2])\n",
    "    #fig2.savefig(f'e-{i}.png')"
   ]
  },
  {
   "cell_type": "code",
   "execution_count": null,
   "metadata": {},
   "outputs": [],
   "source": [
    "acc = pd.DataFrame(columns=['group', 'class', 17, 42, 90, 256])\n",
    "acc_baseline = pd.DataFrame(columns=['group', 'class', 17, 42, 90, 256])\n",
    "\n",
    "for cl in classes:\n",
    "    acc = acc.append({'group':'ave' if cl in ave else 'kitchen', 'class':cl, 17:0, 42:0, 90:0, 256:0}, ignore_index=True)\n",
    "    acc_baseline = acc_baseline.append({'group':'ave' if cl in ave else 'kitchen', 'class':cl, 17:0, 42:0, 90:0, 256:0}, ignore_index=True)\n",
    "\n",
    "# Begin the tests for each class (baseline)\n",
    "for dim in [17, 42, 90, 256]:\n",
    "    model = tf.keras.models.load_model('models/vgg_trained')\n",
    "    model.trainable = False\n",
    "    model = insert_attention_layer_in_keras(p_mat_dict[dim], model, ['block5_conv1'])\n",
    "\n",
    "    model.load_weights(f'models/baselines/baseline{dim}')\n",
    "    for cl in classes:\n",
    "        test_set.set_target_sampling([cl], [1])\n",
    "        acc_val = test_model(model, test_set, cl)\n",
    "        acc_baseline.loc[classes.index(cl), dim] = acc_val\n",
    "\n",
    "# Begin the tests for each class (target)\n",
    "for dim in [17, 42, 90, 256]:\n",
    "    model = tf.keras.models.load_model('models/vgg_trained')\n",
    "    model.trainable = False\n",
    "    model = insert_attention_layer_in_keras(p_mat_dict[dim], model, ['block5_conv1'])\n",
    "\n",
    "    model.load_weights(f'models/task_models/{cl}/{dim}/model_weights', )\n",
    "    for cl in classes:\n",
    "        test_set.set_target_sampling([cl], [1])\n",
    "        acc_val = test_model(model, test_set, cl)\n",
    "        acc.loc[classes.index(cl), dim] = acc_val"
   ]
  },
  {
   "cell_type": "markdown",
   "metadata": {},
   "source": [
    "Sensitivity model"
   ]
  },
  {
   "cell_type": "code",
   "execution_count": 116,
   "metadata": {},
   "outputs": [],
   "source": [
    "def hr_model(model, test_set: CustomIterator, cl) -> None:\n",
    "    \"\"\" Test the passed model for its hit rate on the passed test set.\n",
    "\n",
    "    Args:\n",
    "        model (Model): TensorFlow model.\n",
    "        test_set (CustomIterator): Test set to test on.\n",
    "    \"\"\"\n",
    "    test_set.reset()\n",
    "    pred = model.predict(test_set, steps=test_set.n//test_set.batch_size, verbose=1)\n",
    "    pred = np.argmax(pred, axis=-1)\n",
    "    cls = np.array(test_set.classes)\n",
    "    \n",
    "    print('Computing rates...')\n",
    "    fp_val = np.sum(cls[np.where(pred==test_set.class_indices[cl])[0]]==test_set.class_indices[cl])/len(pred)\n",
    "    hr_val = np.sum(cls[np.where(pred==test_set.class_indices[cl])[0]]!=test_set.class_indices[cl])/len(pred)\n",
    "\n",
    "    return fp_val, hr_val"
   ]
  },
  {
   "cell_type": "code",
   "execution_count": null,
   "metadata": {},
   "outputs": [],
   "source": [
    "test_set.reset_target_sampling()\n",
    "hr = pd.DataFrame(columns=['group', 'class', 17, 42, 90, 256])\n",
    "hr_baseline = pd.DataFrame(columns=['group', 'class', 17, 42, 90, 256])\n",
    "fp = pd.DataFrame(columns=['group', 'class', 17, 42, 90, 256])\n",
    "fp_baseline = pd.DataFrame(columns=['group', 'class', 17, 42, 90, 256])\n",
    "\n",
    "for cl in classes:\n",
    "    hr = hr.append({'group':'ave' if cl in ave else 'kitchen', 'class':cl, 17:0, 42:0, 90:0, 256:0}, ignore_index=True)\n",
    "    hr_baseline = hr_baseline.append({'group':'ave' if cl in ave else 'kitchen', 'class':cl, 17:0, 42:0, 90:0, 256:0}, ignore_index=True)\n",
    "    fp = fp.append({'group':'ave' if cl in ave else 'kitchen', 'class':cl, 17:0, 42:0, 90:0, 256:0}, ignore_index=True)\n",
    "    fp_baseline = fp_baseline.append({'group':'ave' if cl in ave else 'kitchen', 'class':cl, 17:0, 42:0, 90:0, 256:0}, ignore_index=True)\n",
    "\n",
    "# Begin the tests for each class (baseline)\n",
    "for dim in [17, 42, 90, 256]:\n",
    "    model = tf.keras.models.load_model('models/vgg_trained')\n",
    "    model.trainable = False\n",
    "    model = insert_attention_layer_in_keras(p_mat_dict[dim], model, ['block5_conv1'])\n",
    "\n",
    "    model.load_weights(f'models/baselines/baseline{dim}')\n",
    "    for cl in classes[:2]:\n",
    "        fp_val, hr_val = hr_model(model, test_set, cl)\n",
    "        fp_baseline.loc[classes.index(cl), dim] = fp_val\n",
    "        hr_baseline.loc[classes.index(cl), dim] = hr_val\n",
    "\n",
    "# Begin the tests for each class (target)\n",
    "for dim in [17, 42, 90, 256]:\n",
    "    model = tf.keras.models.load_model('models/vgg_trained')\n",
    "    model.trainable = False\n",
    "    model = insert_attention_layer_in_keras(p_mat_dict[dim], model, ['block5_conv1'])\n",
    "\n",
    "    model.load_weights(f'models/task_models/{cl}/{dim}/model_weights', )\n",
    "    for cl in classes[:2]:\n",
    "        fp_val, hr_val = hr_model(model, test_set, cl)\n",
    "        fp.loc[classes.index(cl), dim] = fp_val\n",
    "        hr.loc[classes.index(cl), dim] = hr_val"
   ]
  },
  {
   "cell_type": "code",
   "execution_count": null,
   "metadata": {},
   "outputs": [],
   "source": [
    "model.get_layer('attention_block5_conv1').seeds@model.get_layer('attention_block5_conv1').projection_mat + model.get_layer('attention_block5_conv1').bias"
   ]
  }
 ],
 "metadata": {
  "kernelspec": {
   "display_name": "Python 3.9.2 ('splash2')",
   "language": "python",
   "name": "python3"
  },
  "language_info": {
   "codemirror_mode": {
    "name": "ipython",
    "version": 3
   },
   "file_extension": ".py",
   "mimetype": "text/x-python",
   "name": "python",
   "nbconvert_exporter": "python",
   "pygments_lexer": "ipython3",
   "version": "3.9.2"
  },
  "orig_nbformat": 4,
  "vscode": {
   "interpreter": {
    "hash": "febfae6c9c9e1571e6e03dfd739a8f6fb010085a8ae682416bd437b2f090be32"
   }
  }
 },
 "nbformat": 4,
 "nbformat_minor": 2
}
