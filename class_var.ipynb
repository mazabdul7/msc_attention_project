{
 "cells": [
  {
   "cell_type": "code",
   "execution_count": 1,
   "metadata": {},
   "outputs": [],
   "source": [
    "import os\n",
    "from random import sample\n",
    "os.environ['TF_CPP_MIN_LOG_LEVEL'] = '3' # Must be set before importing TF to supress messages\n",
    "os.environ[\"CUDA_VISIBLE_DEVICES\"]= '3'\n",
    "\n",
    "import tensorflow as tf\n",
    "from tensorflow.keras.callbacks import CSVLogger\n",
    "import numpy as np\n",
    "from utils.loader import DataLoader\n",
    "from utils.tools import test_model\n",
    "from utils.data_sampler import CustomDataGenerator, CustomIterator\n",
    "from utils.configs import config\n",
    "from typing import List\n",
    "import sklearn\n",
    "from sklearn.decomposition import PCA\n",
    "import matplotlib.pyplot as plt\n",
    "import pandas as pd\n",
    "import pickle\n",
    "\n",
    "def load_VGG_model(img_height: int, img_width: int, lr: int, loss: tf.keras.losses.Loss, metrics: List[str], trainable: True) -> tf.keras.Model:\n",
    "    \"\"\" Loads VGG-16 model.\n",
    "\n",
    "    Args:\n",
    "        img_height (int): Image height.\n",
    "        img_width (int): Image width.\n",
    "        lr (int): Learning rate.\n",
    "        loss (tf.keras.losses.Loss): Model loss.\n",
    "        metrics (List[str]): Training metrics.\n",
    "        trainable (True): Set if model weights should be kept frozen or not.\n",
    "\n",
    "    Returns:\n",
    "        tf.keras.Model: TensorFlow VGG-16 model.\n",
    "    \"\"\"\n",
    "    model = tf.keras.applications.vgg16.VGG16(input_shape=(img_height, img_width, 3))\n",
    "    model.trainable = trainable\n",
    "    model.compile(optimizer=tf.keras.optimizers.Adam(lr, epsilon=0.1),\n",
    "                loss=loss,\n",
    "                metrics=metrics)\n",
    "\n",
    "    return model"
   ]
  },
  {
   "cell_type": "code",
   "execution_count": 2,
   "metadata": {},
   "outputs": [
    {
     "name": "stdout",
     "output_type": "stream",
     "text": [
      "Loading test set...\n",
      "Found 48238 images belonging to 1000 classes.\n"
     ]
    }
   ],
   "source": [
    "img_height = 224\n",
    "img_width = 224\n",
    "batch_size = 1\n",
    "\n",
    "# Set augmentation and pre-processing\n",
    "test_datagen = CustomDataGenerator(\n",
    "                    preprocessing_function=tf.keras.applications.vgg16.preprocess_input, dtype=tf.float32)\n",
    "\n",
    "# Load ImageNet dataset with the VGG augmentation\n",
    "loader = DataLoader(batch_size, (img_height, img_width))\n",
    "test_set = loader.load_test_set(aug_test=test_datagen, set_batch_size=False)"
   ]
  },
  {
   "cell_type": "code",
   "execution_count": 3,
   "metadata": {},
   "outputs": [],
   "source": [
    "model = load_VGG_model(img_height=224, img_width=224, lr=1e-3, loss=tf.keras.losses.CategoricalCrossentropy(), metrics=['accuracy'], trainable=True)"
   ]
  },
  {
   "cell_type": "code",
   "execution_count": 5,
   "metadata": {},
   "outputs": [],
   "source": [
    "# Get list of class folders\n",
    "folder_names = list(os.walk(os.path.join(config['image_net_path'], config['test_path'])))[0][1]"
   ]
  },
  {
   "cell_type": "code",
   "execution_count": 6,
   "metadata": {},
   "outputs": [],
   "source": [
    "# Get conversion of folder to names\n",
    "conv_table = pd.read_table(os.path.join(config['externals'], 'imagenet1k_folder2labels.txt'), names=['folder', 'num', 'label'], delim_whitespace=True)\n",
    "label_dict = dict(zip(list(conv_table['folder']), list(conv_table['label'])))"
   ]
  },
  {
   "cell_type": "code",
   "execution_count": 6,
   "metadata": {},
   "outputs": [],
   "source": [
    "# Create model to ouput activation at end of block 4\n",
    "layer_name = 'block4_conv3'\n",
    "intermediate_layer_model = tf.keras.Model(inputs=model.input,\n",
    "                                 outputs=model.get_layer(layer_name).output)"
   ]
  },
  {
   "cell_type": "markdown",
   "metadata": {},
   "source": [
    "NMF"
   ]
  },
  {
   "cell_type": "code",
   "execution_count": null,
   "metadata": {},
   "outputs": [],
   "source": [
    "n_comp = 3\n",
    "model = sklearn.decomposition.NMF(n_components=n_comp, init='nndsvda', random_state=0, max_iter=300)\n",
    "o_dict = {}\n",
    "w_dict = {}\n",
    "\n",
    "for j, od in enumerate(ord_dict.keys()):\n",
    "    print(f'----{j}-----')\n",
    "    arr_dict = {}\n",
    "    for i in range(n_comp):\n",
    "        arr_dict[i] = []\n",
    "    ov_arr = []\n",
    "    w_arr = []\n",
    "    for i, cl in enumerate(ord_dict[od]):\n",
    "        if i%20 ==0:\n",
    "            print(f\"{i}/{len(ord_dict[od])}\")\n",
    "        test_set.set_target_sampling([cl], [1])\n",
    "        activations = intermediate_layer_model.predict(test_set, steps=test_set.n//test_set.batch_size, verbose=0)\n",
    "        activations = tf.reshape(activations, [activations.shape[0],-1]).numpy()\n",
    "        W = model.fit_transform(activations)\n",
    "        H = model.components_\n",
    "        for i in range(n_comp):\n",
    "            arr_dict[i].append(H[i, :].T)\n",
    "        w_arr.append(np.var(W, axis=0)) # Store the average variance of each topic\n",
    "    for i in range(n_comp):\n",
    "        arr_dict[i] = np.vstack(arr_dict[i])\n",
    "    w_arr = np.vstack(w_arr)\n",
    "    w_dict[od] = np.mean(w_arr, axis=0)\n",
    "\n",
    "    pca = PCA(1)\n",
    "    for i in range(n_comp):\n",
    "        el = arr_dict[i] - np.mean(arr_dict[i], axis=0)\n",
    "        reduced = pca.fit(el)\n",
    "        ov_arr.append(reduced.explained_variance_ratio_[0])\n",
    "    o_dict[od] = ov_arr"
   ]
  },
  {
   "cell_type": "code",
   "execution_count": null,
   "metadata": {},
   "outputs": [],
   "source": [
    "o_dict = dict(sorted(o_dict.items()))\n",
    "w_dict = dict(sorted(w_dict.items()))\n",
    "acc_dict = dict(sorted(acc_dict.items()))"
   ]
  },
  {
   "cell_type": "code",
   "execution_count": 68,
   "metadata": {},
   "outputs": [
    {
     "data": {
      "text/plain": [
       "<matplotlib.legend.Legend at 0x7fab0016ea90>"
      ]
     },
     "execution_count": 68,
     "metadata": {},
     "output_type": "execute_result"
    },
    {
     "data": {
      "image/png": "[encoded data removed]",
      "text/plain": [
       "<Figure size 504x360 with 1 Axes>"
      ]
     },
     "metadata": {
      "needs_background": "light"
     },
     "output_type": "display_data"
    }
   ],
   "source": [
    "fig, ax = plt.subplots(figsize=(7,5))\n",
    "for i, cl in enumerate(w_dict.keys()):\n",
    "    ax.scatter( w_dict[cl][0], w_dict[cl][1],label=cl)\n",
    "plt.grid()\n",
    "ax.legend()"
   ]
  },
  {
   "cell_type": "code",
   "execution_count": 65,
   "metadata": {},
   "outputs": [
    {
     "data": {
      "text/plain": [
       "<matplotlib.legend.Legend at 0x7fab002c5340>"
      ]
     },
     "execution_count": 65,
     "metadata": {},
     "output_type": "execute_result"
    },
    {
     "data": {
      "image/png": "[encoded data removed]",
      "text/plain": [
       "<Figure size 504x360 with 1 Axes>"
      ]
     },
     "metadata": {
      "needs_background": "light"
     },
     "output_type": "display_data"
    }
   ],
   "source": [
    "x = np.array(list(k[0] for k in o_dict.values())).reshape(-1, 1)\n",
    "y = np.array(list(acc_dict.values())).reshape(-1, 1)\n",
    "x_quad = np.hstack([x, x**2])\n",
    "x_new = np.linspace(0.1, 0.9, 50).reshape(-1, 1)\n",
    "x_new = np.hstack([x_new, x_new**2])\n",
    "reg = sklearn.linear_model.LinearRegression().fit(x_quad[:-1, :], y[:-1, :])\n",
    "\n",
    "fig, ax = plt.subplots(figsize=(7,5))\n",
    "for i, cl in enumerate(o_dict.keys()):\n",
    "    ax.scatter(x[i], y[i], label=cl)\n",
    "ax.plot(x_new[:, 0], reg.predict(x_new), 'r', label='Quadratic Fit')\n",
    "ax.grid()\n",
    "ax.set_xlabel('First Eigenvalue Explained Variance of NMF Topics')\n",
    "ax.set_ylabel('Mean Superordinate Class Accuracy')\n",
    "plt.legend(loc='upper right')\n",
    "#fig.savefig('pca_nmf_superordinates.png')"
   ]
  },
  {
   "cell_type": "code",
   "execution_count": 69,
   "metadata": {},
   "outputs": [],
   "source": [
    "with open('nmf_ord_results.pkl', 'wb') as f:\n",
    "    pickle.dump(o_dict, f)"
   ]
  },
  {
   "cell_type": "code",
   "execution_count": null,
   "metadata": {},
   "outputs": [],
   "source": [
    "with open('nmf_ord_results.pkl', 'rb') as f:\n",
    "    o_dict  = pickle.load(f)"
   ]
  },
  {
   "cell_type": "code",
   "execution_count": null,
   "metadata": {},
   "outputs": [],
   "source": [
    "acc_dict = {}\n",
    "for od in o_dict.keys():\n",
    "    acc = []\n",
    "    for cl in ord_dict[od]:\n",
    "        acc.append(class_acc_[label_dict[cl]])\n",
    "    acc_dict[od] = np.mean(acc)"
   ]
  },
  {
   "cell_type": "code",
   "execution_count": 10,
   "metadata": {},
   "outputs": [],
   "source": [
    "with open('200.txt') as f: # 200 classes from paper\n",
    "    classes = f.read()\n",
    "    classes = classes.split(',')"
   ]
  },
  {
   "cell_type": "code",
   "execution_count": 77,
   "metadata": {},
   "outputs": [],
   "source": [
    "count_dict = {}\n",
    "for k,v in ord_dict.items():\n",
    "    count = 0\n",
    "    for cl in v:\n",
    "        if cl in classes:\n",
    "            count+=1\n",
    "    count_dict[k] = count"
   ]
  },
  {
   "cell_type": "code",
   "execution_count": 7,
   "metadata": {},
   "outputs": [],
   "source": [
    "folder_names = sorted(folder_names)"
   ]
  },
  {
   "cell_type": "code",
   "execution_count": 8,
   "metadata": {},
   "outputs": [],
   "source": [
    "sem_vec = np.load('external_files/imagenet2vec_1k.npy')\n",
    "sem_dict = {}\n",
    "for cl in folder_names:\n",
    "    sem_dict[cl] = sem_vec[folder_names.index(cl)]"
   ]
  },
  {
   "cell_type": "code",
   "execution_count": 9,
   "metadata": {},
   "outputs": [],
   "source": [
    "cosine_sim = np.zeros((1000, 1000))\n",
    "for i, cl in enumerate(folder_names):\n",
    "    for j, cl2 in enumerate(folder_names):\n",
    "        cosine_sim_score = np.dot(sem_dict[cl], sem_dict[cl2])/(np.linalg.norm(sem_dict[cl])*np.linalg.norm(sem_dict[cl2]))\n",
    "        cosine_sim[i, j] = cosine_sim_score"
   ]
  },
  {
   "cell_type": "code",
   "execution_count": 36,
   "metadata": {},
   "outputs": [],
   "source": [
    "new_od = {}\n",
    "for row in range(cosine_sim.shape[0]):\n",
    "    index = list(np.where(cosine_sim[row, :]>0.2)[0])\n",
    "    index.remove(row)\n",
    "    index = [[folder_names[idx],cosine_sim[row, idx]] for idx in index]\n",
    "    new_od[folder_names[row]] = index"
   ]
  },
  {
   "cell_type": "code",
   "execution_count": 11,
   "metadata": {},
   "outputs": [],
   "source": [
    "import networkx as nx\n",
    "import community\n",
    "import collections"
   ]
  },
  {
   "cell_type": "code",
   "execution_count": 37,
   "metadata": {},
   "outputs": [],
   "source": [
    "g = nx.Graph()\n",
    "g.add_nodes_from(list(new_od.keys()))\n",
    "for k, v in new_od.items():\n",
    "    for entry in v:\n",
    "        g.add_edge(k, entry[0], weight=entry[1])"
   ]
  },
  {
   "cell_type": "markdown",
   "metadata": {},
   "source": [
    "Affinity Prop Clustering"
   ]
  },
  {
   "cell_type": "code",
   "execution_count": 38,
   "metadata": {},
   "outputs": [],
   "source": [
    "nn = len(g.nodes)\n",
    "mat = np.empty((nn, nn), dtype=float)\n",
    "mat.fill(-100.0)\n",
    "np.fill_diagonal(mat, -0.0)\n",
    "preds = nx.jaccard_coefficient(g, g.edges)\n",
    "for u, v, j in preds:\n",
    "    mat[folder_names.index(u),folder_names.index(v)] = -100 * (1 - j)"
   ]
  },
  {
   "cell_type": "code",
   "execution_count": 39,
   "metadata": {},
   "outputs": [
    {
     "name": "stderr",
     "output_type": "stream",
     "text": [
      "/home/mazin/.conda/envs/splash2/lib/python3.9/site-packages/sklearn/cluster/_affinity_propagation.py:148: FutureWarning: 'random_state' has been introduced in 0.23. It will be set to None starting from 1.0 (renaming of 0.25) which means that results will differ at every function call. Set 'random_state' to None to silence this warning, or to 0 to keep the behavior of versions <0.23.\n",
      "  warnings.warn(\n"
     ]
    },
    {
     "data": {
      "text/plain": [
       "7"
      ]
     },
     "execution_count": 39,
     "metadata": {},
     "output_type": "execute_result"
    }
   ],
   "source": [
    "from sklearn.cluster import AffinityPropagation\n",
    "af = AffinityPropagation(preference=-100, affinity=\"precomputed\")\n",
    "lab = af.fit_predict(mat)\n",
    "len(np.unique(lab))"
   ]
  },
  {
   "cell_type": "code",
   "execution_count": 40,
   "metadata": {},
   "outputs": [],
   "source": [
    "cluster_dict = {}\n",
    "for idx in range(len(np.unique(lab))):\n",
    "    cluster_dict[idx] = np.where(af.labels_==idx)[0].tolist()\n",
    "for k,v in cluster_dict.items():\n",
    "    cluster_dict[k] = [label_dict[folder_names[idx]] for idx in v]"
   ]
  },
  {
   "cell_type": "code",
   "execution_count": 42,
   "metadata": {},
   "outputs": [],
   "source": [
    "with open('cluster_dict.pkl', 'wb') as f:\n",
    "    pickle.dump(cluster_dict, f)"
   ]
  },
  {
   "cell_type": "markdown",
   "metadata": {},
   "source": [
    "Community Clustering"
   ]
  },
  {
   "cell_type": "code",
   "execution_count": null,
   "metadata": {},
   "outputs": [],
   "source": [
    "partition = community.best_partition(g)\n",
    "values = [partition.get(node) for node in g.nodes()]\n",
    "counter=collections.Counter(values)\n",
    "print(counter)"
   ]
  },
  {
   "cell_type": "code",
   "execution_count": 75,
   "metadata": {},
   "outputs": [],
   "source": [
    "groups_dict = {}\n",
    "nodes_list = list(g.nodes())\n",
    "for i, v in enumerate(values):\n",
    "    if v not in groups_dict:\n",
    "        groups_dict[v] = []\n",
    "    groups_dict[v].append(label_dict[nodes_list[i]])"
   ]
  },
  {
   "cell_type": "code",
   "execution_count": 23,
   "metadata": {},
   "outputs": [
    {
     "data": {
      "image/png": "[encoded data removed]",
      "text/plain": [
       "<Figure size 432x288 with 1 Axes>"
      ]
     },
     "metadata": {},
     "output_type": "display_data"
    }
   ],
   "source": [
    "sp = nx.spring_layout(g)\n",
    "nx.draw_networkx(g, pos=sp, with_labels=False, node_size=25, node_color=values)\n",
    "# plt.axes('off')\n",
    "plt.show()"
   ]
  },
  {
   "cell_type": "markdown",
   "metadata": {},
   "source": [
    "Basic Variance of Activations"
   ]
  },
  {
   "cell_type": "code",
   "execution_count": null,
   "metadata": {},
   "outputs": [],
   "source": [
    "basic_var_dict = {}\n",
    "for i, cl in enumerate(label_dict.keys()):\n",
    "    if i % 25 == 0:\n",
    "        print(f'{i}/{len(label_dict)}')\n",
    "    test_set.set_target_sampling([cl], [1])\n",
    "    activations = intermediate_layer_model.predict(test_set, steps=test_set.n//test_set.batch_size, verbose=0)\n",
    "    var = np.var(activations, axis =(1,2)) # Var within each filter\n",
    "    var = np.var(var, axis=-1) # Var across variance of filters\n",
    "    var = np.mean(var) # Mean variance across all inter-class samples\n",
    "    basic_var_dict[label_dict[cl]] = var"
   ]
  },
  {
   "cell_type": "code",
   "execution_count": 21,
   "metadata": {},
   "outputs": [],
   "source": [
    "basic_var_dict = dict(sorted(basic_var_dict.items(), key=lambda item: item[1], reverse=True))"
   ]
  },
  {
   "cell_type": "code",
   "execution_count": 69,
   "metadata": {},
   "outputs": [],
   "source": [
    "with open('class_var.pkl', 'wb') as f:\n",
    "    pickle.dump(basic_var_dict, f)"
   ]
  },
  {
   "cell_type": "markdown",
   "metadata": {},
   "source": [
    "PCA Version"
   ]
  },
  {
   "cell_type": "code",
   "execution_count": null,
   "metadata": {},
   "outputs": [],
   "source": [
    "var_dict = {}\n",
    "pca = PCA(10)\n",
    "# Perform PCA per class\n",
    "for i, cl in enumerate(label_dict.keys()):\n",
    "    if i % 25 == 0:\n",
    "        print(f'{i}/{len(label_dict)}')\n",
    "    test_set.set_target_sampling([cl], [1])\n",
    "    activations = intermediate_layer_model.predict(test_set, steps=test_set.n//test_set.batch_size, verbose=0)\n",
    "    activations = tf.reshape(activations, [activations.shape[0],-1]).numpy()\n",
    "    activations = activations - np.mean(activations, axis=0)\n",
    "    reduced = pca.fit(activations)\n",
    "    var_dict[label_dict[cl]] = sum(reduced.explained_variance_ratio_)"
   ]
  },
  {
   "cell_type": "code",
   "execution_count": 79,
   "metadata": {},
   "outputs": [],
   "source": [
    "with open('class_var_pca_centered.pkl', 'wb') as f:\n",
    "    pickle.dump(var_dict, f)"
   ]
  },
  {
   "cell_type": "code",
   "execution_count": 7,
   "metadata": {},
   "outputs": [],
   "source": [
    "with open('external_files/generated_saves/class_var.pkl', 'rb') as f:\n",
    "    class_var  = pickle.load(f)\n",
    "with open('external_files/generated_saves/class_var_pca.pkl', 'rb') as f:\n",
    "    class_var_pca  = pickle.load(f)\n",
    "with open('external_files/generated_saves/class_var_pca_comp.pkl', 'rb') as f:\n",
    "    class_var_pca_comp  = pickle.load(f)\n",
    "with open('external_files/generated_saves/class_acc.pkl', 'rb') as f:\n",
    "    class_acc_ = pickle.load(f)"
   ]
  },
  {
   "cell_type": "code",
   "execution_count": null,
   "metadata": {},
   "outputs": [],
   "source": [
    "var_dict = dict(sorted(var_dict.items(), key=lambda item: item[1], reverse=False))"
   ]
  },
  {
   "cell_type": "code",
   "execution_count": 16,
   "metadata": {},
   "outputs": [],
   "source": [
    "class_var_pca = var_dict.copy()"
   ]
  },
  {
   "cell_type": "markdown",
   "metadata": {},
   "source": [
    "Comparisons"
   ]
  },
  {
   "cell_type": "code",
   "execution_count": 12,
   "metadata": {},
   "outputs": [],
   "source": [
    "var_pca_comp = set(list(class_var_pca_comp.keys())[:200]) # Explained var threshold set with 50% cap \n",
    "var_pca = set(list(class_var_pca.keys())[:200]) # First 5 PC's explained variance sum\n",
    "base_var = set(list(class_var.keys())[:200]) # Basic variance\n",
    "class_acc = set(list(class_acc_.keys())[:200]) # Per class accuracies "
   ]
  },
  {
   "cell_type": "code",
   "execution_count": 13,
   "metadata": {},
   "outputs": [],
   "source": [
    "overlap = class_acc.intersection(var_pca)\n",
    "overlap2 = class_acc.intersection(var_pca_comp)\n",
    "overlap3 = class_acc.intersection(base_var)"
   ]
  },
  {
   "cell_type": "markdown",
   "metadata": {},
   "source": [
    "Ordinate check"
   ]
  },
  {
   "cell_type": "code",
   "execution_count": 32,
   "metadata": {},
   "outputs": [],
   "source": [
    "ord_dict = {}\n",
    "att_dict = {}\n",
    "for ord in list(os.walk(os.path.join('external_files', 'imagenet_superordinates')))[0][2]:\n",
    "    ord_dict[ord.split('_')[0]] = list(pd.read_csv(os.path.join('external_files', 'imagenet_superordinates', ord))['wnid'])"
   ]
  },
  {
   "cell_type": "markdown",
   "metadata": {},
   "source": [
    "Main Experiment Comparisons"
   ]
  },
  {
   "cell_type": "code",
   "execution_count": 18,
   "metadata": {},
   "outputs": [
    {
     "name": "stdout",
     "output_type": "stream",
     "text": [
      "Overlap of lowest 200 (accuracy) classes to highest 200 basic variance:   42\n",
      "Overlap of lowest 200 (accuracy) classes to lowest 200 cumulative variance of first 5 PCs:   30\n",
      "Overlap of lowest 200 (accuracy) classes to lowest 200 first N PCs w/50% expained variance:   24\n"
     ]
    }
   ],
   "source": [
    "print(f'Overlap of lowest 200 (accuracy) classes to highest 200 basic variance:   {len(class_acc.intersection(base_var))}')\n",
    "print(f'Overlap of lowest 200 (accuracy) classes to lowest 200 cumulative variance of first 5 PCs:   {len(class_acc.intersection(var_pca))}')\n",
    "print(f'Overlap of lowest 200 (accuracy) classes to lowest 200 first N PCs w/50% expained variance:   {len(class_acc.intersection(var_pca_comp))}')"
   ]
  },
  {
   "cell_type": "code",
   "execution_count": 19,
   "metadata": {},
   "outputs": [],
   "source": [
    "x_base, x_pca, x_pca_comp, y = [], [], [], []\n",
    "for cl in list(overlap3):\n",
    "    cl_conv = cl #label_dict[cl]\n",
    "    x_base.append(class_var[cl_conv])\n",
    "    x_pca.append(class_var_pca[cl_conv])\n",
    "    x_pca_comp.append(class_var_pca_comp[cl_conv])\n",
    "    y.append(class_acc_[cl_conv])"
   ]
  },
  {
   "cell_type": "code",
   "execution_count": 20,
   "metadata": {},
   "outputs": [],
   "source": [
    "x_pca = (np.array(x_pca) - np.min(np.array(x_pca)))/(np.max(np.array(x_pca)) - np.min(np.array(x_pca)))\n",
    "x_base = (np.array(x_base) - np.min(np.array(x_base)))/(np.max(np.array(x_base)) - np.min(np.array(x_base)))"
   ]
  },
  {
   "cell_type": "code",
   "execution_count": 21,
   "metadata": {},
   "outputs": [
    {
     "data": {
      "text/plain": [
       "<matplotlib.legend.Legend at 0x7f7c3c3cc7f0>"
      ]
     },
     "execution_count": 21,
     "metadata": {},
     "output_type": "execute_result"
    },
    {
     "data": {
      "image/png": "[encoded data removed]",
      "text/plain": [
       "<Figure size 504x360 with 1 Axes>"
      ]
     },
     "metadata": {
      "needs_background": "light"
     },
     "output_type": "display_data"
    }
   ],
   "source": [
    "x_base = np.array(x_base)\n",
    "reg = sklearn.linear_model.LinearRegression().fit(x_base.reshape(-1, 1), y)\n",
    "\n",
    "fig, ax = plt.subplots(figsize=(7,5))\n",
    "ax.plot(x_base, y, 'bx')\n",
    "ax.plot(x_base, reg.predict(x_base.reshape(-1, 1)), 'r', label='Linear Fit')\n",
    "ax.grid()\n",
    "ax.set_xlabel('Normalised variance of activations')\n",
    "ax.set_ylabel('Class Accuracy')\n",
    "plt.legend(loc='upper right')\n",
    "#fig.savefig('base_var_plot.png')"
   ]
  },
  {
   "cell_type": "code",
   "execution_count": 22,
   "metadata": {},
   "outputs": [
    {
     "data": {
      "text/plain": [
       "<matplotlib.legend.Legend at 0x7f7c3c300850>"
      ]
     },
     "execution_count": 22,
     "metadata": {},
     "output_type": "execute_result"
    },
    {
     "data": {
      "image/png": "[encoded data removed]",
      "text/plain": [
       "<Figure size 504x360 with 1 Axes>"
      ]
     },
     "metadata": {
      "needs_background": "light"
     },
     "output_type": "display_data"
    }
   ],
   "source": [
    "x_pca = np.array(x_pca)\n",
    "reg = sklearn.linear_model.LinearRegression().fit(x_pca.reshape(-1, 1), y)\n",
    "\n",
    "fig, ax = plt.subplots(figsize=(7,5))\n",
    "ax.plot(x_pca, y, 'bx')\n",
    "ax.plot(x_pca, reg.predict(x_pca.reshape(-1, 1)), 'r', label='Linear Fit')\n",
    "ax.grid()\n",
    "ax.set_xlabel('Normalised accumulated variance of activations (PCA)')\n",
    "ax.set_ylabel('Class Accuracy')\n",
    "plt.legend(loc='upper right')\n",
    "#fig.savefig('pca_var_plot.png')"
   ]
  },
  {
   "cell_type": "code",
   "execution_count": 78,
   "metadata": {},
   "outputs": [
    {
     "data": {
      "text/plain": [
       "Text(0, 0.5, 'Class Accuracy')"
      ]
     },
     "execution_count": 78,
     "metadata": {},
     "output_type": "execute_result"
    },
    {
     "data": {
      "image/png": "[encoded data removed]",
      "text/plain": [
       "<Figure size 504x360 with 1 Axes>"
      ]
     },
     "metadata": {
      "needs_background": "light"
     },
     "output_type": "display_data"
    }
   ],
   "source": [
    "fig, ax = plt.subplots(figsize=(7,5))\n",
    "ax.plot(x_pca_comp, y, 'bx')\n",
    "ax.grid()\n",
    "ax.set_xlabel('No. of PCs required for 50\"%\" explained variance')\n",
    "ax.set_ylabel('Class Accuracy')\n",
    "#fig.savefig('pca_comp_var_plot.png')"
   ]
  }
 ],
 "metadata": {
  "interpreter": {
   "hash": "febfae6c9c9e1571e6e03dfd739a8f6fb010085a8ae682416bd437b2f090be32"
  },
  "kernelspec": {
   "display_name": "Python 3.9.2 ('splash2')",
   "language": "python",
   "name": "python3"
  },
  "language_info": {
   "codemirror_mode": {
    "name": "ipython",
    "version": 3
   },
   "file_extension": ".py",
   "mimetype": "text/x-python",
   "name": "python",
   "nbconvert_exporter": "python",
   "pygments_lexer": "ipython3",
   "version": "3.9.2"
  },
  "orig_nbformat": 4
 },
 "nbformat": 4,
 "nbformat_minor": 2
}
